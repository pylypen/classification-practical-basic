{
 "cells": [
  {
   "cell_type": "markdown",
   "metadata": {},
   "source": [
    "# PROBLEM STATEMENT"
   ]
  },
  {
   "cell_type": "markdown",
   "metadata": {},
   "source": [
    "You work as a data scientist at a major bank in NYC and you have been tasked to develop a model that can predict whether a customer is able to retire or not based on his/her features. Features are his/her age and net 401K savings (retirement savings in the U.S.). You though that Support Vector Machines can be a great candidate to solve the problem."
   ]
  },
  {
   "cell_type": "markdown",
   "metadata": {},
   "source": [
    "# IMPORTING DATA"
   ]
  },
  {
   "cell_type": "code",
   "execution_count": 1,
   "metadata": {},
   "outputs": [],
   "source": [
    "import pandas as pd\n",
    "import numpy as np\n",
    "import matplotlib.pyplot as plt\n",
    "import seaborn as sns"
   ]
  },
  {
   "cell_type": "code",
   "execution_count": 2,
   "metadata": {},
   "outputs": [],
   "source": [
    "dataset = pd.read_csv('dataset/Bank_Customer_retirement.csv')"
   ]
  },
  {
   "cell_type": "code",
   "execution_count": 3,
   "metadata": {},
   "outputs": [
    {
     "data": {
      "text/html": [
       "<div>\n",
       "<style scoped>\n",
       "    .dataframe tbody tr th:only-of-type {\n",
       "        vertical-align: middle;\n",
       "    }\n",
       "\n",
       "    .dataframe tbody tr th {\n",
       "        vertical-align: top;\n",
       "    }\n",
       "\n",
       "    .dataframe thead th {\n",
       "        text-align: right;\n",
       "    }\n",
       "</style>\n",
       "<table border=\"1\" class=\"dataframe\">\n",
       "  <thead>\n",
       "    <tr style=\"text-align: right;\">\n",
       "      <th></th>\n",
       "      <th>Customer ID</th>\n",
       "      <th>Age</th>\n",
       "      <th>401K Savings</th>\n",
       "      <th>Retire</th>\n",
       "    </tr>\n",
       "  </thead>\n",
       "  <tbody>\n",
       "    <tr>\n",
       "      <th>count</th>\n",
       "      <td>500.000000</td>\n",
       "      <td>500.000000</td>\n",
       "      <td>500.000000</td>\n",
       "      <td>500.000000</td>\n",
       "    </tr>\n",
       "    <tr>\n",
       "      <th>mean</th>\n",
       "      <td>249.500000</td>\n",
       "      <td>46.757077</td>\n",
       "      <td>534984.465804</td>\n",
       "      <td>0.500000</td>\n",
       "    </tr>\n",
       "    <tr>\n",
       "      <th>std</th>\n",
       "      <td>144.481833</td>\n",
       "      <td>7.790125</td>\n",
       "      <td>187675.818881</td>\n",
       "      <td>0.500501</td>\n",
       "    </tr>\n",
       "    <tr>\n",
       "      <th>min</th>\n",
       "      <td>0.000000</td>\n",
       "      <td>25.000000</td>\n",
       "      <td>10.000000</td>\n",
       "      <td>0.000000</td>\n",
       "    </tr>\n",
       "    <tr>\n",
       "      <th>25%</th>\n",
       "      <td>124.750000</td>\n",
       "      <td>41.299451</td>\n",
       "      <td>382626.524425</td>\n",
       "      <td>0.000000</td>\n",
       "    </tr>\n",
       "    <tr>\n",
       "      <th>50%</th>\n",
       "      <td>249.500000</td>\n",
       "      <td>46.695770</td>\n",
       "      <td>534512.984350</td>\n",
       "      <td>0.500000</td>\n",
       "    </tr>\n",
       "    <tr>\n",
       "      <th>75%</th>\n",
       "      <td>374.250000</td>\n",
       "      <td>52.322551</td>\n",
       "      <td>680670.257025</td>\n",
       "      <td>1.000000</td>\n",
       "    </tr>\n",
       "    <tr>\n",
       "      <th>max</th>\n",
       "      <td>499.000000</td>\n",
       "      <td>70.000000</td>\n",
       "      <td>1000000.000000</td>\n",
       "      <td>1.000000</td>\n",
       "    </tr>\n",
       "  </tbody>\n",
       "</table>\n",
       "</div>"
      ],
      "text/plain": [
       "       Customer ID         Age    401K Savings      Retire\n",
       "count   500.000000  500.000000      500.000000  500.000000\n",
       "mean    249.500000   46.757077   534984.465804    0.500000\n",
       "std     144.481833    7.790125   187675.818881    0.500501\n",
       "min       0.000000   25.000000       10.000000    0.000000\n",
       "25%     124.750000   41.299451   382626.524425    0.000000\n",
       "50%     249.500000   46.695770   534512.984350    0.500000\n",
       "75%     374.250000   52.322551   680670.257025    1.000000\n",
       "max     499.000000   70.000000  1000000.000000    1.000000"
      ]
     },
     "execution_count": 3,
     "metadata": {},
     "output_type": "execute_result"
    }
   ],
   "source": [
    "dataset.describe()"
   ]
  },
  {
   "cell_type": "code",
   "execution_count": 4,
   "metadata": {},
   "outputs": [
    {
     "name": "stdout",
     "output_type": "stream",
     "text": [
      "<class 'pandas.core.frame.DataFrame'>\n",
      "RangeIndex: 500 entries, 0 to 499\n",
      "Data columns (total 4 columns):\n",
      " #   Column        Non-Null Count  Dtype  \n",
      "---  ------        --------------  -----  \n",
      " 0   Customer ID   500 non-null    int64  \n",
      " 1   Age           500 non-null    float64\n",
      " 2   401K Savings  500 non-null    float64\n",
      " 3   Retire        500 non-null    int64  \n",
      "dtypes: float64(2), int64(2)\n",
      "memory usage: 15.8 KB\n"
     ]
    }
   ],
   "source": [
    "dataset.info()"
   ]
  },
  {
   "cell_type": "code",
   "execution_count": 5,
   "metadata": {},
   "outputs": [
    {
     "data": {
      "text/html": [
       "<div>\n",
       "<style scoped>\n",
       "    .dataframe tbody tr th:only-of-type {\n",
       "        vertical-align: middle;\n",
       "    }\n",
       "\n",
       "    .dataframe tbody tr th {\n",
       "        vertical-align: top;\n",
       "    }\n",
       "\n",
       "    .dataframe thead th {\n",
       "        text-align: right;\n",
       "    }\n",
       "</style>\n",
       "<table border=\"1\" class=\"dataframe\">\n",
       "  <thead>\n",
       "    <tr style=\"text-align: right;\">\n",
       "      <th></th>\n",
       "      <th>Customer ID</th>\n",
       "      <th>Age</th>\n",
       "      <th>401K Savings</th>\n",
       "      <th>Retire</th>\n",
       "    </tr>\n",
       "  </thead>\n",
       "  <tbody>\n",
       "    <tr>\n",
       "      <th>0</th>\n",
       "      <td>0</td>\n",
       "      <td>39.180417</td>\n",
       "      <td>322349.8740</td>\n",
       "      <td>0</td>\n",
       "    </tr>\n",
       "    <tr>\n",
       "      <th>1</th>\n",
       "      <td>1</td>\n",
       "      <td>56.101686</td>\n",
       "      <td>768671.5740</td>\n",
       "      <td>1</td>\n",
       "    </tr>\n",
       "    <tr>\n",
       "      <th>2</th>\n",
       "      <td>2</td>\n",
       "      <td>57.023043</td>\n",
       "      <td>821505.4718</td>\n",
       "      <td>1</td>\n",
       "    </tr>\n",
       "    <tr>\n",
       "      <th>3</th>\n",
       "      <td>3</td>\n",
       "      <td>43.711358</td>\n",
       "      <td>494187.4850</td>\n",
       "      <td>0</td>\n",
       "    </tr>\n",
       "    <tr>\n",
       "      <th>4</th>\n",
       "      <td>4</td>\n",
       "      <td>54.728823</td>\n",
       "      <td>691435.7723</td>\n",
       "      <td>1</td>\n",
       "    </tr>\n",
       "    <tr>\n",
       "      <th>5</th>\n",
       "      <td>5</td>\n",
       "      <td>50.499789</td>\n",
       "      <td>742398.9068</td>\n",
       "      <td>1</td>\n",
       "    </tr>\n",
       "    <tr>\n",
       "      <th>6</th>\n",
       "      <td>6</td>\n",
       "      <td>39.573302</td>\n",
       "      <td>578650.3156</td>\n",
       "      <td>0</td>\n",
       "    </tr>\n",
       "    <tr>\n",
       "      <th>7</th>\n",
       "      <td>7</td>\n",
       "      <td>55.159309</td>\n",
       "      <td>533821.2011</td>\n",
       "      <td>1</td>\n",
       "    </tr>\n",
       "    <tr>\n",
       "      <th>8</th>\n",
       "      <td>8</td>\n",
       "      <td>30.791271</td>\n",
       "      <td>459592.4084</td>\n",
       "      <td>0</td>\n",
       "    </tr>\n",
       "    <tr>\n",
       "      <th>9</th>\n",
       "      <td>9</td>\n",
       "      <td>40.456073</td>\n",
       "      <td>396800.2509</td>\n",
       "      <td>0</td>\n",
       "    </tr>\n",
       "  </tbody>\n",
       "</table>\n",
       "</div>"
      ],
      "text/plain": [
       "   Customer ID        Age  401K Savings  Retire\n",
       "0            0  39.180417   322349.8740       0\n",
       "1            1  56.101686   768671.5740       1\n",
       "2            2  57.023043   821505.4718       1\n",
       "3            3  43.711358   494187.4850       0\n",
       "4            4  54.728823   691435.7723       1\n",
       "5            5  50.499789   742398.9068       1\n",
       "6            6  39.573302   578650.3156       0\n",
       "7            7  55.159309   533821.2011       1\n",
       "8            8  30.791271   459592.4084       0\n",
       "9            9  40.456073   396800.2509       0"
      ]
     },
     "execution_count": 5,
     "metadata": {},
     "output_type": "execute_result"
    }
   ],
   "source": [
    "dataset.head(10)"
   ]
  },
  {
   "cell_type": "code",
   "execution_count": 6,
   "metadata": {},
   "outputs": [
    {
     "data": {
      "text/plain": [
       "Customer ID     0\n",
       "Age             0\n",
       "401K Savings    0\n",
       "Retire          0\n",
       "dtype: int64"
      ]
     },
     "execution_count": 6,
     "metadata": {},
     "output_type": "execute_result"
    }
   ],
   "source": [
    "dataset.isnull().sum()"
   ]
  },
  {
   "cell_type": "code",
   "execution_count": 7,
   "metadata": {},
   "outputs": [],
   "source": [
    "dataset.drop(['Customer ID'], axis = 1, inplace = True)"
   ]
  },
  {
   "cell_type": "code",
   "execution_count": 8,
   "metadata": {},
   "outputs": [
    {
     "name": "stdout",
     "output_type": "stream",
     "text": [
      "<class 'pandas.core.frame.DataFrame'>\n",
      "RangeIndex: 500 entries, 0 to 499\n",
      "Data columns (total 3 columns):\n",
      " #   Column        Non-Null Count  Dtype  \n",
      "---  ------        --------------  -----  \n",
      " 0   Age           500 non-null    float64\n",
      " 1   401K Savings  500 non-null    float64\n",
      " 2   Retire        500 non-null    int64  \n",
      "dtypes: float64(2), int64(1)\n",
      "memory usage: 11.8 KB\n"
     ]
    }
   ],
   "source": [
    "dataset.info()"
   ]
  },
  {
   "cell_type": "markdown",
   "metadata": {},
   "source": [
    "# VISUALIZING THE DATA"
   ]
  },
  {
   "cell_type": "code",
   "execution_count": 9,
   "metadata": {},
   "outputs": [
    {
     "data": {
      "text/plain": [
       "<seaborn.axisgrid.PairGrid at 0x7ff57a0d1710>"
      ]
     },
     "execution_count": 9,
     "metadata": {},
     "output_type": "execute_result"
    },
    {
     "data": {
      "image/png": "[encoded data removed]",
      "text/plain": [
       "<Figure size 540x540 with 12 Axes>"
      ]
     },
     "metadata": {
      "needs_background": "light"
     },
     "output_type": "display_data"
    }
   ],
   "source": [
    "sns.pairplot(dataset)"
   ]
  },
  {
   "cell_type": "code",
   "execution_count": 10,
   "metadata": {},
   "outputs": [
    {
     "data": {
      "text/plain": [
       "<matplotlib.axes._subplots.AxesSubplot at 0x7ff57941e810>"
      ]
     },
     "execution_count": 10,
     "metadata": {},
     "output_type": "execute_result"
    },
    {
     "data": {
      "image/png": "[encoded data removed]",
      "text/plain": [
       "<Figure size 432x288 with 2 Axes>"
      ]
     },
     "metadata": {
      "needs_background": "light"
     },
     "output_type": "display_data"
    }
   ],
   "source": [
    "sns.heatmap(dataset.corr(), annot = True)"
   ]
  },
  {
   "cell_type": "code",
   "execution_count": 11,
   "metadata": {},
   "outputs": [
    {
     "data": {
      "text/plain": [
       "<matplotlib.axes._subplots.AxesSubplot at 0x7ff57831b590>"
      ]
     },
     "execution_count": 11,
     "metadata": {},
     "output_type": "execute_result"
    },
    {
     "data": {
      "image/png": "[encoded data removed]",
      "text/plain": [
       "<Figure size 432x288 with 1 Axes>"
      ]
     },
     "metadata": {
      "needs_background": "light"
     },
     "output_type": "display_data"
    }
   ],
   "source": [
    "sns.scatterplot(x = '401K Savings', y = 'Age', hue = 'Retire', data = dataset)"
   ]
  },
  {
   "cell_type": "code",
   "execution_count": 12,
   "metadata": {},
   "outputs": [
    {
     "data": {
      "text/plain": [
       "<seaborn.axisgrid.PairGrid at 0x7ff578234710>"
      ]
     },
     "execution_count": 12,
     "metadata": {},
     "output_type": "execute_result"
    },
    {
     "data": {
      "image/png": "[encoded data removed]",
      "text/plain": [
       "<Figure size 402.375x360 with 6 Axes>"
      ]
     },
     "metadata": {
      "needs_background": "light"
     },
     "output_type": "display_data"
    }
   ],
   "source": [
    "sns.pairplot(dataset, hue = 'Retire')"
   ]
  },
  {
   "cell_type": "code",
   "execution_count": 13,
   "metadata": {},
   "outputs": [
    {
     "data": {
      "text/plain": [
       "<matplotlib.axes._subplots.AxesSubplot at 0x7ff578041a50>"
      ]
     },
     "execution_count": 13,
     "metadata": {},
     "output_type": "execute_result"
    },
    {
     "data": {
      "image/png": "[encoded data removed]",
      "text/plain": [
       "<Figure size 432x288 with 1 Axes>"
      ]
     },
     "metadata": {
      "needs_background": "light"
     },
     "output_type": "display_data"
    }
   ],
   "source": [
    "sns.boxplot(x = 'Retire', y = 'Age', data = dataset)"
   ]
  },
  {
   "cell_type": "code",
   "execution_count": 14,
   "metadata": {},
   "outputs": [
    {
     "data": {
      "text/plain": [
       "<matplotlib.axes._subplots.AxesSubplot at 0x7ff56f77f690>"
      ]
     },
     "execution_count": 14,
     "metadata": {},
     "output_type": "execute_result"
    },
    {
     "data": {
      "image/png": "[encoded data removed]",
      "text/plain": [
       "<Figure size 432x288 with 1 Axes>"
      ]
     },
     "metadata": {
      "needs_background": "light"
     },
     "output_type": "display_data"
    }
   ],
   "source": [
    "sns.boxplot(x = 'Retire', y = '401K Savings', data = dataset)"
   ]
  },
  {
   "cell_type": "code",
   "execution_count": 15,
   "metadata": {},
   "outputs": [
    {
     "data": {
      "text/plain": [
       "<matplotlib.axes._subplots.AxesSubplot at 0x7ff56f6fffd0>"
      ]
     },
     "execution_count": 15,
     "metadata": {},
     "output_type": "execute_result"
    },
    {
     "data": {
      "image/png": "[encoded data removed]",
      "text/plain": [
       "<Figure size 432x288 with 1 Axes>"
      ]
     },
     "metadata": {
      "needs_background": "light"
     },
     "output_type": "display_data"
    }
   ],
   "source": [
    "sns.countplot(dataset['Retire'])"
   ]
  },
  {
   "cell_type": "markdown",
   "metadata": {},
   "source": [
    "# MODEL SCALING AND TRAINING"
   ]
  },
  {
   "cell_type": "code",
   "execution_count": 16,
   "metadata": {},
   "outputs": [],
   "source": [
    "from sklearn.svm import SVC\n",
    "from sklearn.model_selection import train_test_split\n",
    "from sklearn.preprocessing import StandardScaler\n",
    "from sklearn.metrics import confusion_matrix, classification_report"
   ]
  },
  {
   "cell_type": "code",
   "execution_count": 17,
   "metadata": {},
   "outputs": [
    {
     "name": "stdout",
     "output_type": "stream",
     "text": [
      "(500, 2) (500,)\n"
     ]
    }
   ],
   "source": [
    "X = dataset.drop(['Retire'], axis = 1)\n",
    "y = dataset['Retire']\n",
    "\n",
    "print(X.shape, y.shape)"
   ]
  },
  {
   "cell_type": "code",
   "execution_count": 18,
   "metadata": {},
   "outputs": [
    {
     "name": "stdout",
     "output_type": "stream",
     "text": [
      "[[3.91804173e+01 3.22349874e+05]\n",
      " [5.61016860e+01 7.68671574e+05]\n",
      " [5.70230427e+01 8.21505472e+05]\n",
      " [4.37113581e+01 4.94187485e+05]\n",
      " [5.47288232e+01 6.91435772e+05]\n",
      " [5.04997891e+01 7.42398907e+05]\n",
      " [3.95733022e+01 5.78650316e+05]\n",
      " [5.51593087e+01 5.33821201e+05]\n",
      " [3.07912714e+01 4.59592408e+05]\n",
      " [4.04560728e+01 3.96800251e+05]\n",
      " [3.38911974e+01 2.72808272e+05]\n",
      " [4.27544162e+01 3.77042246e+05]\n",
      " [4.42249802e+01 4.82773224e+05]\n",
      " [4.74990645e+01 6.28103678e+05]\n",
      " [6.28624108e+01 7.71170284e+05]\n",
      " [5.63314358e+01 5.31736742e+05]\n",
      " [4.31669950e+01 4.75505760e+05]\n",
      " [6.37855439e+01 6.69249971e+05]\n",
      " [4.57904008e+01 4.88283996e+05]\n",
      " [4.90707308e+01 6.66179034e+05]\n",
      " [4.49290770e+01 6.67652074e+05]\n",
      " [4.83379384e+01 5.76300132e+05]\n",
      " [5.12910441e+01 5.84324079e+05]\n",
      " [4.70737861e+01 6.76035723e+05]\n",
      " [4.77597585e+01 5.38416345e+05]\n",
      " [4.96926983e+01 7.27503276e+05]\n",
      " [3.80404142e+01 3.82831370e+05]\n",
      " [4.80212941e+01 7.59955470e+05]\n",
      " [3.48599990e+01 3.49137707e+05]\n",
      " [4.04035374e+01 4.39074522e+05]\n",
      " [3.67808995e+01 5.54553824e+05]\n",
      " [5.99052700e+01 8.07629853e+05]\n",
      " [4.49558906e+01 5.16350175e+05]\n",
      " [3.83691703e+01 3.98136045e+05]\n",
      " [4.95451190e+01 6.43383041e+05]\n",
      " [5.60195764e+01 5.71676535e+05]\n",
      " [4.18780628e+01 3.15547001e+05]\n",
      " [6.21358992e+01 9.80549656e+05]\n",
      " [4.46494553e+01 6.80388386e+05]\n",
      " [5.05693250e+01 6.27554790e+05]\n",
      " [5.63653948e+01 6.27005391e+05]\n",
      " [4.55000232e+01 1.96467120e+05]\n",
      " [4.85057745e+01 5.63618311e+05]\n",
      " [3.53582940e+01 2.09517779e+05]\n",
      " [4.17743717e+01 6.26096814e+05]\n",
      " [5.07543325e+01 7.57720635e+05]\n",
      " [4.51892867e+01 5.36044001e+05]\n",
      " [4.98903875e+01 4.25910524e+05]\n",
      " [3.71678789e+01 2.53541277e+05]\n",
      " [3.18260812e+01 5.15111884e+05]\n",
      " [5.43839640e+01 6.18691794e+05]\n",
      " [3.39791146e+01 2.41484388e+05]\n",
      " [5.35285053e+01 7.28048805e+05]\n",
      " [3.68273249e+01 2.73853068e+05]\n",
      " [3.98814256e+01 4.69424327e+05]\n",
      " [4.85009867e+01 9.21090683e+05]\n",
      " [4.62619956e+01 6.52617550e+05]\n",
      " [5.58457288e+01 6.38240658e+05]\n",
      " [3.43297741e+01 1.85122801e+05]\n",
      " [4.83111475e+01 6.03815840e+05]\n",
      " [4.59680506e+01 6.11701684e+05]\n",
      " [4.50775959e+01 1.00000000e+06]\n",
      " [4.33169676e+01 6.42782072e+05]\n",
      " [5.33090858e+01 6.94581327e+05]\n",
      " [5.60079785e+01 8.50704588e+05]\n",
      " [4.58778240e+01 2.60743979e+05]\n",
      " [4.81153848e+01 2.25344025e+05]\n",
      " [5.31547873e+01 5.55506701e+05]\n",
      " [4.48701129e+01 4.16277262e+05]\n",
      " [4.82121635e+01 4.76088320e+05]\n",
      " [4.71321315e+01 3.78097442e+05]\n",
      " [4.58839700e+01 2.89943749e+05]\n",
      " [4.66826842e+01 5.76264677e+05]\n",
      " [3.38885651e+01 2.33910260e+05]\n",
      " [4.46866323e+01 6.42583867e+05]\n",
      " [3.71095744e+01 3.45188836e+05]\n",
      " [3.81640798e+01 3.84149321e+05]\n",
      " [3.58152935e+01 4.87268757e+05]\n",
      " [5.85846044e+01 5.75573240e+05]\n",
      " [4.21474552e+01 5.69398833e+05]\n",
      " [4.11899220e+01 3.68829660e+05]\n",
      " [4.98245624e+01 4.59515989e+05]\n",
      " [5.01642553e+01 5.25315937e+05]\n",
      " [4.49646997e+01 6.83012737e+05]\n",
      " [5.10689737e+01 5.93965157e+05]\n",
      " [5.68671791e+01 6.15416153e+05]\n",
      " [4.39752623e+01 7.81781643e+05]\n",
      " [5.59574487e+01 6.44913863e+05]\n",
      " [4.87343691e+01 5.67627072e+05]\n",
      " [4.23813066e+01 2.71869482e+05]\n",
      " [5.27419516e+01 6.29188309e+05]\n",
      " [4.28192714e+01 2.74640338e+05]\n",
      " [4.77889935e+01 6.23343264e+05]\n",
      " [5.35940920e+01 7.30218523e+05]\n",
      " [3.75062384e+01 4.68875030e+05]\n",
      " [5.36649257e+01 7.07056164e+05]\n",
      " [3.18411755e+01 4.45320992e+05]\n",
      " [5.60392343e+01 6.66309471e+05]\n",
      " [3.66560904e+01 4.24137666e+05]\n",
      " [4.36333736e+01 4.43370805e+05]\n",
      " [5.53835752e+01 4.24025559e+05]\n",
      " [4.37218913e+01 3.42121568e+05]\n",
      " [5.43192963e+01 8.44374281e+05]\n",
      " [4.50966448e+01 2.62694238e+05]\n",
      " [3.16456498e+01 2.52237738e+05]\n",
      " [5.39856799e+01 4.91405838e+05]\n",
      " [3.58385443e+01 4.14992938e+05]\n",
      " [4.85906613e+01 7.00156038e+05]\n",
      " [4.34630319e+01 5.97862029e+05]\n",
      " [3.99795162e+01 3.48249457e+05]\n",
      " [4.57630735e+01 4.67124927e+05]\n",
      " [4.67639358e+01 7.87631993e+05]\n",
      " [4.75119936e+01 5.81095162e+05]\n",
      " [3.13172725e+01 3.17031636e+05]\n",
      " [4.12958843e+01 5.69371853e+05]\n",
      " [4.39901819e+01 7.26521895e+05]\n",
      " [6.21063463e+01 6.95583436e+05]\n",
      " [5.10518855e+01 5.63446818e+05]\n",
      " [4.47181987e+01 5.76927941e+05]\n",
      " [6.10861632e+01 4.11502142e+05]\n",
      " [3.81927060e+01 6.38074512e+05]\n",
      " [4.88210399e+01 2.94620168e+05]\n",
      " [4.37838940e+01 3.55078494e+05]\n",
      " [5.44662233e+01 6.48110795e+05]\n",
      " [5.79986344e+01 6.28791949e+05]\n",
      " [3.97299851e+01 2.26999006e+05]\n",
      " [4.13121399e+01 6.31961248e+05]\n",
      " [5.74635929e+01 7.03725737e+05]\n",
      " [5.40916007e+01 5.88386713e+05]\n",
      " [4.92419105e+01 5.31401448e+05]\n",
      " [4.53837442e+01 6.25618784e+05]\n",
      " [4.08058421e+01 1.61499281e+05]\n",
      " [4.86616378e+01 6.81515870e+05]\n",
      " [4.15012308e+01 3.77361895e+05]\n",
      " [3.78070285e+01 3.18647306e+05]\n",
      " [4.73664065e+01 5.19724061e+05]\n",
      " [4.34199791e+01 2.13386735e+05]\n",
      " [3.82962245e+01 5.21486975e+05]\n",
      " [3.76952988e+01 3.05052185e+05]\n",
      " [4.42825042e+01 3.63802714e+05]\n",
      " [4.17173116e+01 6.70715990e+05]\n",
      " [5.23612338e+01 4.30746435e+05]\n",
      " [4.74399826e+01 3.14624322e+05]\n",
      " [4.16822840e+01 1.93751420e+05]\n",
      " [5.03607418e+01 4.33798386e+05]\n",
      " [5.59927229e+01 6.04178601e+05]\n",
      " [5.30837255e+01 7.12212224e+05]\n",
      " [5.28088144e+01 9.74839801e+05]\n",
      " [5.62146146e+01 6.83098829e+05]\n",
      " [5.50556890e+01 7.23698940e+05]\n",
      " [3.62573693e+01 4.72946931e+05]\n",
      " [4.35060230e+01 3.35613824e+05]\n",
      " [4.61501405e+01 2.60271664e+05]\n",
      " [4.79071329e+01 7.24481817e+05]\n",
      " [5.07295284e+01 8.23841444e+05]\n",
      " [4.83370241e+01 3.75203990e+05]\n",
      " [5.06445559e+01 6.24052693e+05]\n",
      " [5.03963185e+01 7.87807992e+05]\n",
      " [4.39921362e+01 7.55527207e+05]\n",
      " [5.72461600e+01 7.69459150e+05]\n",
      " [4.52995167e+01 2.87992930e+05]\n",
      " [5.72561789e+01 5.88565438e+05]\n",
      " [5.69612241e+01 8.51874401e+05]\n",
      " [5.33162803e+01 6.75526751e+05]\n",
      " [3.84004286e+01 2.58474490e+05]\n",
      " [4.29241934e+01 3.64527625e+05]\n",
      " [4.11451775e+01 4.40681544e+05]\n",
      " [6.29144772e+01 4.98230502e+05]\n",
      " [4.19388060e+01 5.10616978e+05]\n",
      " [5.84555410e+01 7.98727584e+05]\n",
      " [4.01031110e+01 1.09281635e+05]\n",
      " [5.36687276e+01 7.68628333e+05]\n",
      " [4.71618658e+01 4.48980073e+05]\n",
      " [5.10872066e+01 9.32150682e+05]\n",
      " [4.68138988e+01 3.13349549e+05]\n",
      " [3.89253350e+01 3.83256156e+05]\n",
      " [3.17876633e+01 5.47443754e+05]\n",
      " [4.14333131e+01 3.76168477e+05]\n",
      " [5.17450180e+01 5.35735525e+05]\n",
      " [5.17486770e+01 5.94228129e+05]\n",
      " [5.81333257e+01 7.31892941e+05]\n",
      " [4.15422870e+01 4.64298006e+05]\n",
      " [5.51294358e+01 7.70007078e+05]\n",
      " [4.97560309e+01 4.36616009e+05]\n",
      " [5.21264035e+01 7.07951866e+05]\n",
      " [4.21618161e+01 3.36468200e+05]\n",
      " [5.19193440e+01 6.69914752e+05]\n",
      " [3.84445374e+01 2.64183082e+05]\n",
      " [4.58081167e+01 4.96002212e+05]\n",
      " [3.69036931e+01 3.74397165e+05]\n",
      " [4.72282099e+01 7.25715157e+05]\n",
      " [4.65028098e+01 5.67482149e+05]\n",
      " [4.49147029e+01 9.96460546e+05]\n",
      " [4.13213331e+01 3.49998887e+05]\n",
      " [3.77230232e+01 2.93795644e+05]\n",
      " [3.62057687e+01 4.09285769e+05]\n",
      " [5.70347362e+01 2.37410947e+05]\n",
      " [7.00000000e+01 8.04085972e+05]\n",
      " [4.77128328e+01 4.09153655e+05]\n",
      " [4.66370804e+01 4.65282705e+05]\n",
      " [4.18673476e+01 3.56186311e+05]\n",
      " [4.87824624e+01 6.24200236e+05]\n",
      " [3.71825385e+01 3.59319870e+05]\n",
      " [3.12097328e+01 3.88352119e+05]\n",
      " [2.99828790e+01 3.31381939e+05]\n",
      " [5.84289945e+01 7.19611410e+05]\n",
      " [4.65993616e+01 6.26794876e+05]\n",
      " [6.41260389e+01 6.40059074e+05]\n",
      " [4.87293564e+01 9.49185625e+05]\n",
      " [4.88156726e+01 6.77632871e+05]\n",
      " [5.81243967e+01 5.26814771e+05]\n",
      " [5.05398360e+01 7.51605609e+05]\n",
      " [4.13006399e+01 5.37671664e+05]\n",
      " [5.53949419e+01 9.37168111e+05]\n",
      " [4.95918518e+01 5.59050476e+05]\n",
      " [4.98687578e+01 7.06841073e+05]\n",
      " [4.73174541e+01 3.59540415e+05]\n",
      " [5.65691079e+01 8.05300668e+05]\n",
      " [3.96953410e+01 3.33595434e+05]\n",
      " [4.74911898e+01 8.79472598e+05]\n",
      " [5.97104664e+01 5.14194490e+05]\n",
      " [3.85607714e+01 3.12467434e+05]\n",
      " [4.50420169e+01 6.16904684e+05]\n",
      " [4.36524984e+01 5.69384480e+05]\n",
      " [3.43269711e+01 5.23330619e+05]\n",
      " [4.41617305e+01 4.37217770e+05]\n",
      " [4.83583912e+01 7.87857862e+05]\n",
      " [4.88161588e+01 5.36256511e+05]\n",
      " [4.85528813e+01 3.62665393e+05]\n",
      " [5.38679481e+01 7.93227068e+05]\n",
      " [5.32505459e+01 6.24962078e+05]\n",
      " [4.47428021e+01 4.13312176e+05]\n",
      " [4.47402632e+01 1.00000000e+01]\n",
      " [3.46562546e+01 3.74127604e+05]\n",
      " [5.51790118e+01 5.18373667e+05]\n",
      " [5.40554355e+01 7.27994470e+05]\n",
      " [5.94199454e+01 8.33107492e+05]\n",
      " [3.66219394e+01 1.28542674e+05]\n",
      " [5.18851407e+01 7.34200772e+05]\n",
      " [4.13941401e+01 3.01572281e+05]\n",
      " [5.59577145e+01 3.48461119e+05]\n",
      " [4.19973432e+01 1.82805182e+05]\n",
      " [5.17192525e+01 5.29098057e+05]\n",
      " [4.66034564e+01 3.86341796e+05]\n",
      " [4.11491578e+01 5.66822377e+05]\n",
      " [4.71458455e+01 5.05437762e+05]\n",
      " [4.52777059e+01 4.69027179e+05]\n",
      " [4.56783687e+01 6.84863431e+05]\n",
      " [6.04652977e+01 7.23957947e+05]\n",
      " [4.67134237e+01 6.53145614e+05]\n",
      " [5.74040766e+01 4.86069148e+05]\n",
      " [4.10065558e+01 4.15323638e+05]\n",
      " [3.43841446e+01 5.38168183e+05]\n",
      " [4.51652964e+01 4.24173266e+05]\n",
      " [3.48245101e+01 4.27485823e+05]\n",
      " [3.93677117e+01 2.80816801e+05]\n",
      " [4.36896997e+01 6.94815948e+05]\n",
      " [4.56967368e+01 8.60093307e+05]\n",
      " [4.60634493e+01 7.05421985e+05]\n",
      " [5.87260382e+01 7.40082030e+05]\n",
      " [5.67168425e+01 7.40588728e+05]\n",
      " [3.63545669e+01 4.68357017e+05]\n",
      " [6.12894866e+01 4.58292687e+05]\n",
      " [5.45192907e+01 6.55543074e+05]\n",
      " [3.38092282e+01 5.54719685e+05]\n",
      " [5.42384104e+01 6.18588402e+05]\n",
      " [4.13385029e+01 4.44180490e+05]\n",
      " [4.44919538e+01 5.25956414e+05]\n",
      " [4.51870100e+01 6.59146040e+05]\n",
      " [3.82802742e+01 4.66619193e+05]\n",
      " [4.25472845e+01 3.97979438e+05]\n",
      " [4.86830660e+01 7.71460579e+05]\n",
      " [3.70676260e+01 2.02033850e+05]\n",
      " [4.31859856e+01 3.53071494e+05]\n",
      " [5.03835112e+01 7.28202747e+05]\n",
      " [4.79226599e+01 5.83566169e+05]\n",
      " [4.21816635e+01 3.46943365e+05]\n",
      " [5.70709247e+01 6.68451660e+05]\n",
      " [5.43152722e+01 6.74958685e+05]\n",
      " [4.23020521e+01 5.29183115e+05]\n",
      " [5.13685833e+01 6.61479538e+05]\n",
      " [3.59747015e+01 4.09933744e+05]\n",
      " [4.42256496e+01 7.91556549e+05]\n",
      " [4.23841075e+01 5.24356946e+05]\n",
      " [4.18848776e+01 4.73574658e+05]\n",
      " [5.47577494e+01 6.16377878e+05]\n",
      " [3.87983209e+01 3.16411223e+05]\n",
      " [3.92671938e+01 3.78130231e+05]\n",
      " [5.28984747e+01 4.50396866e+05]\n",
      " [4.93150058e+01 5.58200559e+05]\n",
      " [4.09298373e+01 5.18885549e+05]\n",
      " [4.19288010e+01 4.95515815e+05]\n",
      " [5.62168550e+01 7.01666032e+05]\n",
      " [2.50000000e+01 4.30374497e+05]\n",
      " [3.62164895e+01 3.51626255e+05]\n",
      " [4.66349201e+01 7.61650986e+05]\n",
      " [4.55595020e+01 6.62138039e+05]\n",
      " [4.54243874e+01 3.62227675e+05]\n",
      " [5.81396703e+01 6.32737721e+05]\n",
      " [3.54729416e+01 2.36697163e+05]\n",
      " [3.72627454e+01 4.47747673e+05]\n",
      " [4.89561332e+01 1.61821907e+05]\n",
      " [4.67779860e+01 6.45353642e+05]\n",
      " [4.81556814e+01 5.58160377e+05]\n",
      " [4.56557145e+01 3.61681290e+05]\n",
      " [5.04271031e+01 5.34061920e+05]\n",
      " [5.44409024e+01 6.41499689e+05]\n",
      " [5.00912429e+01 6.65272341e+05]\n",
      " [4.83952878e+01 7.06879036e+05]\n",
      " [4.81528965e+01 3.28476669e+05]\n",
      " [5.22659781e+01 5.00931138e+05]\n",
      " [5.05382735e+01 7.08241938e+05]\n",
      " [4.48908635e+01 4.90751589e+05]\n",
      " [3.95464064e+01 1.77840609e+05]\n",
      " [3.34455798e+01 2.43355630e+05]\n",
      " [4.67088562e+01 6.20421220e+05]\n",
      " [4.81614416e+01 5.36782410e+05]\n",
      " [3.89125642e+01 5.01950177e+05]\n",
      " [4.36953922e+01 2.63102971e+05]\n",
      " [3.96635807e+01 4.69315277e+05]\n",
      " [5.58682420e+01 7.87636562e+05]\n",
      " [5.45355112e+01 6.98675439e+05]\n",
      " [2.59106722e+01 3.09960458e+05]\n",
      " [3.79974891e+01 3.54267923e+05]\n",
      " [3.63780281e+01 3.08761798e+05]\n",
      " [4.06078050e+01 3.82011987e+05]\n",
      " [5.55319933e+01 6.44741387e+05]\n",
      " [5.05875707e+01 7.40844312e+05]\n",
      " [3.91549562e+01 5.84092835e+05]\n",
      " [5.46201294e+01 5.38872595e+05]\n",
      " [5.58951536e+01 7.34563718e+05]\n",
      " [3.81891851e+01 3.45996457e+05]\n",
      " [5.70119768e+01 7.84759186e+05]\n",
      " [3.79105244e+01 2.51312840e+05]\n",
      " [3.28356533e+01 3.72827989e+05]\n",
      " [3.60466065e+01 2.75534786e+05]\n",
      " [3.22161760e+01 1.75261774e+05]\n",
      " [3.79696836e+01 4.29802166e+05]\n",
      " [3.49684602e+01 4.77035059e+05]\n",
      " [3.72552231e+01 2.81263665e+05]\n",
      " [3.97115209e+01 5.11503213e+05]\n",
      " [4.08316413e+01 1.67689017e+05]\n",
      " [4.23272651e+01 1.94568635e+05]\n",
      " [5.03322824e+01 8.85090900e+05]\n",
      " [4.42607820e+01 7.62197296e+05]\n",
      " [4.50711856e+01 2.74922291e+05]\n",
      " [3.17088575e+01 4.30961689e+05]\n",
      " [5.60649151e+01 5.35353159e+05]\n",
      " [4.88783605e+01 4.87803217e+05]\n",
      " [6.38030753e+01 7.17905364e+05]\n",
      " [3.58336233e+01 3.77708778e+05]\n",
      " [4.17561070e+01 3.04972073e+05]\n",
      " [3.72446598e+01 4.54093343e+05]\n",
      " [4.38629970e+01 5.34964048e+05]\n",
      " [4.53836815e+01 3.25403361e+05]\n",
      " [4.09111933e+01 3.75729988e+05]\n",
      " [4.43003298e+01 6.20928854e+05]\n",
      " [4.67159002e+01 8.02197149e+05]\n",
      " [5.33983498e+01 3.53451043e+05]\n",
      " [6.14068969e+01 7.11665057e+05]\n",
      " [4.66231439e+01 6.40007145e+05]\n",
      " [6.10706632e+01 4.61449473e+05]\n",
      " [5.23096571e+01 7.17232815e+05]\n",
      " [3.96540072e+01 4.06512470e+05]\n",
      " [6.42980241e+01 5.95089711e+05]\n",
      " [4.79945273e+01 3.56936306e+05]\n",
      " [6.73182081e+01 6.84331339e+05]\n",
      " [4.82145030e+01 7.21734720e+05]\n",
      " [3.17678759e+01 4.97823529e+05]\n",
      " [4.01530415e+01 4.03286273e+05]\n",
      " [4.74254237e+01 4.57904205e+05]\n",
      " [4.62139168e+01 4.50513311e+05]\n",
      " [4.21304915e+01 3.50034668e+05]\n",
      " [5.57888049e+01 6.52333127e+05]\n",
      " [6.25730313e+01 9.36001561e+05]\n",
      " [4.06420330e+01 4.01153956e+05]\n",
      " [4.15815483e+01 3.81602651e+05]\n",
      " [4.35186072e+01 3.42314311e+05]\n",
      " [3.93785599e+01 3.93316934e+05]\n",
      " [5.20863911e+01 6.91334402e+05]\n",
      " [3.89965678e+01 4.26501709e+05]\n",
      " [4.56693262e+01 7.70668795e+05]\n",
      " [4.87749673e+01 7.71569084e+05]\n",
      " [3.90267546e+01 3.01129974e+05]\n",
      " [4.73614216e+01 8.62612841e+05]\n",
      " [5.42904395e+01 5.21378299e+05]\n",
      " [5.30526334e+01 7.83459409e+05]\n",
      " [5.83108632e+01 7.56324865e+05]\n",
      " [5.00745018e+01 6.88581051e+05]\n",
      " [5.20040328e+01 7.52403298e+05]\n",
      " [5.59647980e+01 6.51645844e+05]\n",
      " [5.36548097e+01 7.92146958e+05]\n",
      " [5.29191607e+01 8.80415592e+05]\n",
      " [5.12781189e+01 6.62080162e+05]\n",
      " [3.35635178e+01 2.58691981e+05]\n",
      " [5.63684949e+01 5.37126850e+05]\n",
      " [4.99254246e+01 5.63605320e+05]\n",
      " [5.37052968e+01 3.83248631e+05]\n",
      " [4.68870025e+01 7.31696316e+05]\n",
      " [3.43537031e+01 3.12827647e+05]\n",
      " [4.25380691e+01 3.98471713e+05]\n",
      " [4.28196701e+01 7.64012924e+05]\n",
      " [6.30965880e+01 7.73481755e+05]\n",
      " [3.79015902e+01 4.87339360e+05]\n",
      " [5.36746741e+01 8.57012590e+05]\n",
      " [6.01949882e+01 6.28964373e+05]\n",
      " [4.17524617e+01 3.16578211e+05]\n",
      " [4.73591616e+01 4.37553369e+05]\n",
      " [5.18729527e+01 5.97578315e+05]\n",
      " [5.15040782e+01 7.00260034e+05]\n",
      " [4.94695042e+01 7.49446953e+05]\n",
      " [4.92075899e+01 6.55161720e+05]\n",
      " [5.68621348e+01 6.73809799e+05]\n",
      " [5.04406901e+01 6.88242363e+05]\n",
      " [5.28121730e+01 7.41040427e+05]\n",
      " [5.14037324e+01 5.32521841e+05]\n",
      " [5.14045475e+01 8.87884701e+05]\n",
      " [5.12324072e+01 3.75678034e+05]\n",
      " [3.97439179e+01 4.43193395e+05]\n",
      " [5.75308923e+01 5.80426007e+05]\n",
      " [4.16395453e+01 4.39523275e+05]\n",
      " [4.73020036e+01 3.12894132e+05]\n",
      " [4.32518364e+01 3.87915656e+05]\n",
      " [3.42020818e+01 4.39603463e+05]\n",
      " [3.67307175e+01 4.88439908e+05]\n",
      " [4.68824946e+01 6.87278153e+05]\n",
      " [4.57071523e+01 4.22644158e+05]\n",
      " [5.65790729e+01 7.78867765e+05]\n",
      " [4.97592378e+01 3.17137453e+05]\n",
      " [3.10907329e+01 2.77531964e+05]\n",
      " [5.14896814e+01 7.13991449e+05]\n",
      " [3.83718478e+01 5.00483350e+05]\n",
      " [5.52536279e+01 6.60849291e+05]\n",
      " [5.14932078e+01 7.54885459e+05]\n",
      " [5.01162973e+01 6.38267897e+05]\n",
      " [5.18651818e+01 6.56009993e+05]\n",
      " [3.91395137e+01 6.89696199e+05]\n",
      " [4.19763693e+01 2.61566368e+05]\n",
      " [5.65539527e+01 7.05439872e+05]\n",
      " [5.37144775e+01 6.77438931e+05]\n",
      " [4.32832177e+01 8.26169756e+05]\n",
      " [4.33924071e+01 2.75746779e+05]\n",
      " [5.46922012e+01 8.35091531e+05]\n",
      " [5.78626462e+01 6.61246897e+05]\n",
      " [4.11747170e+01 3.22131641e+05]\n",
      " [3.92818495e+01 3.88331736e+05]\n",
      " [4.11515726e+01 3.66003914e+05]\n",
      " [4.14608598e+01 4.29490712e+05]\n",
      " [3.81083354e+01 5.02523755e+05]\n",
      " [3.81144477e+01 5.32952680e+05]\n",
      " [5.20402970e+01 6.61515776e+05]\n",
      " [5.26818599e+01 6.78577503e+05]\n",
      " [5.70666720e+01 5.92917225e+05]\n",
      " [6.29331866e+01 7.82770094e+05]\n",
      " [4.26801698e+01 1.75398478e+05]\n",
      " [4.86790133e+01 7.65350286e+05]\n",
      " [5.29829058e+01 5.89348439e+05]\n",
      " [4.39595595e+01 3.45695150e+05]\n",
      " [6.17622620e+01 5.71820466e+05]\n",
      " [2.68034343e+01 2.84409888e+05]\n",
      " [4.95825169e+01 8.77835406e+05]\n",
      " [5.33717803e+01 7.61245633e+05]\n",
      " [4.68350340e+01 7.06326481e+05]\n",
      " [3.42668881e+01 5.85775582e+05]\n",
      " [5.96172449e+01 7.41937195e+05]\n",
      " [4.10784180e+01 3.00247867e+05]\n",
      " [5.43315453e+01 8.04752067e+05]\n",
      " [4.09879481e+01 4.08937164e+05]\n",
      " [4.15216109e+01 5.41971211e+05]\n",
      " [4.82188815e+01 3.01399855e+05]\n",
      " [4.88551612e+01 2.84513102e+05]\n",
      " [4.13324912e+01 5.08589004e+05]\n",
      " [4.45517815e+01 4.77706950e+05]\n",
      " [4.56406794e+01 4.28892623e+05]\n",
      " [4.33682611e+01 4.08815129e+05]\n",
      " [6.02671772e+01 5.36666473e+05]\n",
      " [4.88777514e+01 6.71181140e+05]\n",
      " [3.43933940e+01 3.22818916e+05]\n",
      " [4.58293495e+01 5.34021378e+05]\n",
      " [6.00252002e+01 7.27621525e+05]\n",
      " [6.47033386e+01 6.01611932e+05]\n",
      " [4.41515263e+01 6.36927033e+05]\n",
      " [3.96205664e+01 3.30178628e+05]\n",
      " [5.40909101e+01 9.03053677e+05]\n",
      " [4.80538118e+01 7.18014224e+05]\n",
      " [3.42621901e+01 3.84891523e+05]\n",
      " [3.83511266e+01 3.38379322e+04]\n",
      " [4.17596413e+01 4.22084864e+05]\n",
      " [5.22271608e+01 5.94855517e+05]\n",
      " [4.78705095e+01 3.68474892e+05]\n",
      " [5.72167890e+01 9.26205923e+05]\n",
      " [5.68562340e+01 8.11243386e+05]\n",
      " [3.67151550e+01 4.99613616e+05]\n",
      " [5.06461739e+01 6.12945003e+05]\n",
      " [5.09701599e+01 2.24468400e+05]\n",
      " [4.66781280e+01 7.04243078e+05]\n",
      " [4.35450070e+01 4.83176000e+05]\n",
      " [4.64767244e+01 3.54919199e+05]\n",
      " [5.09036311e+01 6.39789922e+05]\n",
      " [3.85905860e+01 4.91310010e+05]]\n"
     ]
    }
   ],
   "source": [
    "print(X)"
   ]
  },
  {
   "cell_type": "code",
   "execution_count": 19,
   "metadata": {},
   "outputs": [
    {
     "name": "stdout",
     "output_type": "stream",
     "text": [
      "0      0\n",
      "1      1\n",
      "2      1\n",
      "3      0\n",
      "4      1\n",
      "      ..\n",
      "495    1\n",
      "496    0\n",
      "497    0\n",
      "498    1\n",
      "499    0\n",
      "Name: Retire, Length: 500, dtype: int64\n"
     ]
    }
   ],
   "source": [
    "print(y)"
   ]
  },
  {
   "cell_type": "code",
   "execution_count": 20,
   "metadata": {},
   "outputs": [],
   "source": [
    "scaler = StandardScaler()"
   ]
  },
  {
   "cell_type": "code",
   "execution_count": 21,
   "metadata": {},
   "outputs": [],
   "source": [
    "X = scaler.fit_transform(X)"
   ]
  },
  {
   "cell_type": "code",
   "execution_count": 22,
   "metadata": {},
   "outputs": [
    {
     "name": "stdout",
     "output_type": "stream",
     "text": [
      "[[-9.73572063e-01 -1.13412344e+00]\n",
      " [ 1.20074689e+00  1.24641069e+00]\n",
      " [ 1.31913773e+00  1.52820944e+00]\n",
      " [-3.91363327e-01 -2.17597767e-01]\n",
      " [ 1.02433922e+00  8.34460155e-01]\n",
      " [ 4.80924346e-01  1.10628086e+00]\n",
      " [-9.23087848e-01  2.32899377e-01]\n",
      " [ 1.07965497e+00 -6.20447388e-03]\n",
      " [-2.05154554e+00 -4.02116603e-01]\n",
      " [-8.09655157e-01 -7.37029456e-01]\n",
      " [-1.65321679e+00 -1.39836216e+00]\n",
      " [-5.14326734e-01 -8.42412200e-01]\n",
      " [-3.25364839e-01 -2.78477708e-01]\n",
      " [ 9.53426051e-02  4.96667454e-01]\n",
      " [ 2.06947442e+00  1.25973799e+00]\n",
      " [ 1.23026887e+00 -1.73222988e-02]\n",
      " [-4.61311925e-01 -3.17239982e-01]\n",
      " [ 2.18809354e+00  7.16128337e-01]\n",
      " [-1.24214218e-01 -2.49085047e-01]\n",
      " [ 2.97295776e-01  6.99748964e-01]\n",
      " [-2.34891064e-01  7.07605679e-01]\n",
      " [ 2.03134720e-01  2.20364266e-01]\n",
      " [ 5.82597624e-01  2.63161375e-01]\n",
      " [ 4.06959449e-02  7.52321324e-01]\n",
      " [ 1.28840798e-01  1.83045224e-02]\n",
      " [ 3.77216242e-01  1.02683244e+00]\n",
      " [-1.12005814e+00 -8.11534902e-01]\n",
      " [ 1.62447125e-01  1.19992184e+00]\n",
      " [-1.52872946e+00 -9.91245893e-01]\n",
      " [-8.16405757e-01 -5.11552307e-01]\n",
      " [-1.28190102e+00  1.04376564e-01]\n",
      " [ 1.68949303e+00  1.45420142e+00]\n",
      " [-2.31445615e-01 -9.93892213e-02]\n",
      " [-1.07781422e+00 -7.29904766e-01]\n",
      " [ 3.58252857e-01  5.78162585e-01]\n",
      " [ 1.19019611e+00  1.95703508e-01]\n",
      " [-6.26934832e-01 -1.17040775e+00]\n",
      " [ 1.97612043e+00  2.37649915e+00]\n",
      " [-2.70821391e-01  7.75537006e-01]\n",
      " [ 4.89859456e-01  4.93739865e-01]\n",
      " [ 1.23463248e+00  4.90809551e-01]\n",
      " [-1.61526630e-01 -1.80554092e+00]\n",
      " [ 2.24701028e-01  1.52723574e-01]\n",
      " [-1.46470044e+00 -1.73593298e+00]\n",
      " [-6.40258743e-01  4.85963496e-01]\n",
      " [ 5.13632214e-01  1.18800196e+00]\n",
      " [-2.01455095e-01  5.65121351e-03]\n",
      " [ 4.02618557e-01 -5.81764771e-01]\n",
      " [-1.23217562e+00 -1.50112602e+00]\n",
      " [-1.91857640e+00 -1.05993857e-01]\n",
      " [ 9.80026119e-01  4.46467542e-01]\n",
      " [-1.64191977e+00 -1.56543352e+00]\n",
      " [ 8.70102911e-01  1.02974211e+00]\n",
      " [-1.27593552e+00 -1.39278956e+00]\n",
      " [-8.83495153e-01 -3.49676363e-01]\n",
      " [ 2.24085809e-01  2.05936442e+00]\n",
      " [-6.36160707e-02  6.27416438e-01]\n",
      " [ 1.16785736e+00  5.50734797e-01]\n",
      " [-1.59686135e+00 -1.86604781e+00]\n",
      " [ 1.99692188e-01  3.67124062e-01]\n",
      " [-1.01386886e-01  4.09184579e-01]\n",
      " [-2.15806944e-01  2.48024093e+00]\n",
      " [-4.42041016e-01  5.74957214e-01]\n",
      " [ 8.41908343e-01  8.51237516e-01]\n",
      " [ 1.18870583e+00  1.68394799e+00]\n",
      " [-1.12980659e-01 -1.46270916e+00]\n",
      " [ 1.74537430e-01 -1.65152095e+00]\n",
      " [ 8.22081563e-01  1.09458900e-01]\n",
      " [-2.42467725e-01 -6.33145444e-01]\n",
      " [ 1.86973128e-01 -3.14132799e-01]\n",
      " [ 4.81931079e-02 -8.36784128e-01]\n",
      " [-1.12190925e-01 -1.30696713e+00]\n",
      " [-9.55917218e-03  2.20175160e-01]\n",
      " [-1.65355504e+00 -1.60583145e+00]\n",
      " [-2.66044288e-01  5.73900050e-01]\n",
      " [-1.23966754e+00 -1.01230788e+00]\n",
      " [-1.10416758e+00 -8.04505382e-01]\n",
      " [-1.40597773e+00 -2.54500000e-01]\n",
      " [ 1.51979250e+00  2.16487260e-01]\n",
      " [-5.92318926e-01  1.83554992e-01]\n",
      " [-7.15358316e-01 -8.86215448e-01]\n",
      " [ 3.94160282e-01 -4.02524201e-01]\n",
      " [ 4.37809534e-01 -5.15687722e-02]\n",
      " [-2.30313676e-01  7.89534437e-01]\n",
      " [ 5.54062413e-01  3.14583740e-01]\n",
      " [ 1.29910986e+00  4.28996341e-01]\n",
      " [-3.57452640e-01  1.31633551e+00]\n",
      " [ 1.18221294e+00  5.86327491e-01]\n",
      " [ 2.54074570e-01  1.74104997e-01]\n",
      " [-5.62269914e-01 -1.40336936e+00]\n",
      " [ 7.69033742e-01  5.02452522e-01]\n",
      " [-5.05993087e-01 -1.38859052e+00]\n",
      " [ 1.32597385e-01  4.71276962e-01]\n",
      " [ 8.78530557e-01  1.04131468e+00]\n",
      " [-1.18869771e+00 -3.52606131e-01]\n",
      " [ 8.87632413e-01  9.17774220e-01]\n",
      " [-1.91663684e+00 -4.78235675e-01]\n",
      " [ 1.19272208e+00  7.00444671e-01]\n",
      " [-1.29793852e+00 -5.91220615e-01]\n",
      " [-4.01384044e-01 -4.88637334e-01]\n",
      " [ 1.10847237e+00 -5.91818555e-01]\n",
      " [-3.90009846e-01 -1.02866769e+00]\n",
      " [ 9.71716561e-01  1.65018419e+00]\n",
      " [-2.13359226e-01 -1.45230712e+00]\n",
      " [-1.94176116e+00 -1.50807867e+00]\n",
      " [ 9.28848119e-01 -2.32434161e-01]\n",
      " [-1.40299009e+00 -6.39995609e-01]\n",
      " [ 2.35608657e-01  8.80971203e-01]\n",
      " [-4.23272310e-01  3.35368382e-01]\n",
      " [-8.70890882e-01 -9.95983527e-01]\n",
      " [-1.27725665e-01 -3.61940608e-01]\n",
      " [ 8.81353325e-04  1.34753937e+00]\n",
      " [ 9.70039429e-02  2.45939389e-01]\n",
      " [-1.98395640e+00 -1.16248919e+00]\n",
      " [-7.01742564e-01  1.83411089e-01]\n",
      " [-3.55535521e-01  1.02159807e+00]\n",
      " [ 1.97232300e+00  8.56582440e-01]\n",
      " [ 5.51866651e-01  1.51808886e-01]\n",
      " [-2.61988127e-01  2.23712791e-01]\n",
      " [ 1.84123334e+00 -6.58614371e-01]\n",
      " [-1.10048922e+00  5.49848628e-01]\n",
      " [ 2.65211434e-01 -1.28202463e+00]\n",
      " [-3.82042735e-01 -9.59559676e-01]\n",
      " [ 9.90596128e-01  6.03378879e-01]\n",
      " [ 1.44449758e+00  5.00338469e-01]\n",
      " [-9.02954683e-01 -1.64269382e+00]\n",
      " [-6.99653781e-01  5.17242473e-01]\n",
      " [ 1.37574677e+00  9.00010811e-01]\n",
      " [ 9.42458541e-01  2.84830140e-01]\n",
      " [ 3.19291713e-01 -1.91106442e-02]\n",
      " [-1.76468045e-01  4.83413843e-01]\n",
      " [-7.64711130e-01 -1.99204796e+00]\n",
      " [ 2.44728864e-01  7.81550637e-01]\n",
      " [-6.75356315e-01 -8.40707294e-01]\n",
      " [-1.15004732e+00 -1.15387173e+00]\n",
      " [ 7.82965505e-02 -8.13940151e-02]\n",
      " [-4.28804432e-01 -1.71529723e+00]\n",
      " [-1.08718749e+00 -7.19912041e-02]\n",
      " [-1.16440417e+00 -1.22638366e+00]\n",
      " [-3.17973211e-01 -9.13027536e-01]\n",
      " [-6.47590748e-01  7.23947607e-01]\n",
      " [ 7.20112943e-01 -5.55971602e-01]\n",
      " [ 8.77508008e-02 -1.17532901e+00]\n",
      " [-6.52091665e-01 -1.82002558e+00]\n",
      " [ 4.63057302e-01 -5.39693492e-01]\n",
      " [ 1.18674555e+00  3.69058913e-01]\n",
      " [ 8.12950397e-01  9.45274959e-01]\n",
      " [ 7.77625358e-01  2.34604465e+00]\n",
      " [ 1.21525778e+00  7.89993622e-01]\n",
      " [ 1.06634024e+00  1.00654135e+00]\n",
      " [-1.34917266e+00 -3.30887941e-01]\n",
      " [-4.17748109e-01 -1.06337787e+00]\n",
      " [-7.79890250e-02 -1.46522833e+00]\n",
      " [ 1.47777853e-01  1.01071696e+00]\n",
      " [ 5.10444986e-01  1.54066875e+00]\n",
      " [ 2.03017234e-01 -8.52216854e-01]\n",
      " [ 4.99526333e-01  4.75060822e-01]\n",
      " [ 4.67628777e-01  1.34847809e+00]\n",
      " [-3.55284409e-01  1.17630293e+00]\n",
      " [ 1.34780747e+00  1.25061136e+00]\n",
      " [-1.87290957e-01 -1.31737216e+00]\n",
      " [ 1.34909486e+00  2.85783400e-01]\n",
      " [ 1.31119429e+00  1.69018738e+00]\n",
      " [ 8.42832805e-01  7.49606631e-01]\n",
      " [-1.07379766e+00 -1.47481387e+00]\n",
      " [-4.92511009e-01 -9.09161098e-01]\n",
      " [-7.21107812e-01 -5.02980976e-01]\n",
      " [ 2.07616476e+00 -1.96033636e-01]\n",
      " [-6.19129563e-01 -1.29968220e-01]\n",
      " [ 1.50320835e+00  1.40671962e+00]\n",
      " [-8.55009418e-01 -2.27055982e+00]\n",
      " [ 8.88120944e-01  1.24618005e+00]\n",
      " [ 5.20138425e-02 -4.58719330e-01]\n",
      " [ 5.56405279e-01  2.11835484e+00]\n",
      " [ 7.30140321e-03 -1.18212824e+00]\n",
      " [-1.00634917e+00 -8.09269233e-01]\n",
      " [-1.92351295e+00  6.64537737e-02]\n",
      " [-6.84083488e-01 -8.47072600e-01]\n",
      " [ 6.40931553e-01  4.00590171e-03]\n",
      " [ 6.41401724e-01  3.15986344e-01]\n",
      " [ 1.46180490e+00  1.05024547e+00]\n",
      " [-6.70080744e-01 -3.77018485e-01]\n",
      " [ 1.07581642e+00  1.25353383e+00]\n",
      " [ 3.85354235e-01 -5.24665209e-01]\n",
      " [ 6.89938146e-01  9.22551604e-01]\n",
      " [-5.90473612e-01 -1.05882090e+00]\n",
      " [ 6.63331786e-01  7.19674064e-01]\n",
      " [-1.06812985e+00 -1.44436611e+00]\n",
      " [-1.21937784e-01 -2.07918606e-01]\n",
      " [-1.26612251e+00 -8.56520197e-01]\n",
      " [ 6.05388082e-02  1.01729519e+00]\n",
      " [-3.26723579e-02  1.73332025e-01]\n",
      " [-2.36738077e-01  2.46136264e+00]\n",
      " [-6.98472486e-01 -9.86652644e-01]\n",
      " [-1.16084168e+00 -1.28642238e+00]\n",
      " [-1.35580315e+00 -6.70435782e-01]\n",
      " [ 1.32064030e+00 -1.58715993e+00]\n",
      " [ 2.98662761e+00  1.43529951e+00]\n",
      " [ 1.22811023e-01 -6.71140435e-01]\n",
      " [-1.54190942e-02 -3.71766418e-01]\n",
      " [-6.28311697e-01 -9.53650942e-01]\n",
      " [ 2.60254367e-01  4.75847772e-01]\n",
      " [-1.23029193e+00 -9.36937561e-01]\n",
      " [-1.99777484e+00 -7.82089032e-01]\n",
      " [-2.15542090e+00 -1.08594936e+00]\n",
      " [ 1.49979722e+00  9.84739799e-01]\n",
      " [-2.02658082e-02  4.89686733e-01]\n",
      " [ 2.23184585e+00  5.60433629e-01]\n",
      " [ 2.53430449e-01  2.20921366e+00]\n",
      " [ 2.64521763e-01  7.60839987e-01]\n",
      " [ 1.46065755e+00 -4.35744808e-02]\n",
      " [ 4.86070227e-01  1.15538640e+00]\n",
      " [-7.01131489e-01  1.43326351e-02]\n",
      " [ 1.10993295e+00  2.14511617e+00]\n",
      " [ 3.64257847e-01  1.28360236e-01]\n",
      " [ 3.99839222e-01  9.16626997e-01]\n",
      " [ 7.20063499e-02 -9.35761247e-01]\n",
      " [ 1.26080884e+00  1.44177831e+00]\n",
      " [-9.07406320e-01 -1.07414330e+00]\n",
      " [ 9.43307347e-02  1.83738715e+00]\n",
      " [ 1.66446150e+00 -1.10886938e-01]\n",
      " [-1.05319421e+00 -1.18683315e+00]\n",
      " [-2.20378705e-01  4.36935680e-01]\n",
      " [-3.98926577e-01  1.83478436e-01]\n",
      " [-1.59722152e+00 -6.21578109e-02]\n",
      " [-3.33492186e-01 -5.21455613e-01]\n",
      " [ 2.05762831e-01  1.34874408e+00]\n",
      " [ 2.64584238e-01  6.78467402e-03]\n",
      " [ 2.30754074e-01 -9.19093634e-01]\n",
      " [ 9.13720033e-01  1.37738167e+00]\n",
      " [ 8.34386180e-01  4.79911189e-01]\n",
      " [-2.58826684e-01 -6.48960242e-01]\n",
      " [-2.59152923e-01 -2.85337902e+00]\n",
      " [-1.55490984e+00 -8.57957946e-01]\n",
      " [ 1.08218675e+00 -8.85965755e-02]\n",
      " [ 9.37811455e-01  1.02945230e+00]\n",
      " [ 1.62713066e+00  1.59009082e+00]\n",
      " [-1.30232678e+00 -2.16782773e+00]\n",
      " [ 6.58936790e-01  1.06255469e+00]\n",
      " [-6.89117065e-01 -1.24494433e+00]\n",
      " [ 1.18224710e+00 -9.94854590e-01]\n",
      " [-6.11607757e-01 -1.87840924e+00]\n",
      " [ 6.37620778e-01 -3.13961819e-02]\n",
      " [-1.97396419e-02 -7.92811436e-01]\n",
      " [-7.20596370e-01  1.69813016e-01]\n",
      " [ 4.99552985e-02 -1.57592465e-01]\n",
      " [-1.90093566e-01 -3.51794619e-01]\n",
      " [-1.38609915e-01  7.99405435e-01]\n",
      " [ 1.76145447e+00  1.00792281e+00]\n",
      " [-5.60926411e-03  6.30232959e-01]\n",
      " [ 1.36809915e+00 -2.60898322e-01]\n",
      " [-7.38920178e-01 -6.38231762e-01]\n",
      " [-1.58987494e+00  1.69809052e-02]\n",
      " [-2.04537765e-01 -5.91030737e-01]\n",
      " [-1.53328964e+00 -5.73362641e-01]\n",
      " [-9.49505441e-01 -1.35564729e+00]\n",
      " [-3.94146352e-01  8.52488909e-01]\n",
      " [-1.36249687e-01  1.73402434e+00]\n",
      " [-8.91285095e-02  9.09058042e-01]\n",
      " [ 1.53796621e+00  1.09392340e+00]\n",
      " [ 1.27979217e+00  1.09662596e+00]\n",
      " [-1.33668314e+00 -3.55369042e-01]\n",
      " [ 1.86735962e+00 -4.09048894e-01]\n",
      " [ 9.97415080e-01  6.43020227e-01]\n",
      " [-1.66374952e+00  1.05261211e-01]\n",
      " [ 9.61323035e-01  4.45916079e-01]\n",
      " [-6.96266241e-01 -4.84318738e-01]\n",
      " [-2.91059741e-01 -4.81526761e-02]\n",
      " [-2.01747640e-01  6.62237273e-01]\n",
      " [-1.08923704e+00 -3.64638030e-01]\n",
      " [-5.40942380e-01 -7.30740055e-01]\n",
      " [ 2.47482309e-01  1.26128633e+00]\n",
      " [-1.24505774e+00 -1.77584980e+00]\n",
      " [-4.58871706e-01 -9.70264359e-01]\n",
      " [ 4.65983086e-01  1.03056319e+00]\n",
      " [ 1.49773007e-01  2.59118934e-01]\n",
      " [-5.87923295e-01 -1.00294980e+00]\n",
      " [ 1.32529039e+00  7.11870412e-01]\n",
      " [ 9.71199484e-01  7.46576756e-01]\n",
      " [-5.72453809e-01 -3.09425093e-02]\n",
      " [ 5.92561111e-01  6.74683387e-01]\n",
      " [-1.38549440e+00 -6.66979695e-01]\n",
      " [-3.25278822e-01  1.36847167e+00]\n",
      " [-5.61910005e-01 -5.66837196e-02]\n",
      " [-6.26059149e-01 -3.27539850e-01]\n",
      " [ 1.02805613e+00  4.34125871e-01]\n",
      " [-1.02267000e+00 -1.16579827e+00]\n",
      " [-9.62421611e-01 -8.36609245e-01]\n",
      " [ 7.89146373e-01 -4.51162622e-01]\n",
      " [ 3.28684190e-01  1.23827057e-01]\n",
      " [-7.48778218e-01 -8.58663631e-02]\n",
      " [-6.20415165e-01 -2.10512888e-01]\n",
      " [ 1.21554567e+00  8.89025017e-01]\n",
      " [-2.79570199e+00 -5.57955394e-01]\n",
      " [-1.35442556e+00 -9.77972792e-01]\n",
      " [-1.56966769e-02  1.20896516e+00]\n",
      " [-1.53883834e-01  6.78195617e-01]\n",
      " [-1.71245548e-01 -9.21428284e-01]\n",
      " [ 1.46262015e+00  5.21383924e-01]\n",
      " [-1.44996865e+00 -1.59096702e+00]\n",
      " [-1.21998563e+00 -4.65292551e-01]\n",
      " [ 2.82570418e-01 -1.99032717e+00]\n",
      " [ 2.68673926e-03  5.88673126e-01]\n",
      " [ 1.79715389e-01  1.23612740e-01]\n",
      " [-1.41520896e-01 -9.24342519e-01]\n",
      " [ 4.71584479e-01 -4.92055578e-03]\n",
      " [ 9.87342483e-01  5.68117404e-01]\n",
      " [ 4.28427714e-01  6.94912958e-01]\n",
      " [ 2.10503907e-01  9.16829479e-01]\n",
      " [ 1.79357543e-01 -1.10144512e+00]\n",
      " [ 7.07872945e-01 -1.81629327e-01]\n",
      " [ 4.85869456e-01  9.24098751e-01]\n",
      " [-2.39801351e-01 -2.35923715e-01]\n",
      " [-9.26543847e-01 -1.90488865e+00]\n",
      " [-1.71047696e+00 -1.55545293e+00]\n",
      " [-6.19617314e-03  4.55691734e-01]\n",
      " [ 1.80455553e-01  9.58964961e-03]\n",
      " [-1.00799017e+00 -1.76194102e-01]\n",
      " [-3.93414880e-01 -1.45012707e+00]\n",
      " [-9.11487399e-01 -3.50258000e-01]\n",
      " [ 1.17075022e+00  1.34756374e+00]\n",
      " [ 9.99499363e-01  8.73074170e-01]\n",
      " [-2.67868406e+00 -1.20020454e+00]\n",
      " [-1.12557386e+00 -9.63882998e-01]\n",
      " [-1.33366847e+00 -1.20659780e+00]\n",
      " [-7.90158149e-01 -8.15905224e-01]\n",
      " [ 1.12754354e+00  5.85407559e-01]\n",
      " [ 4.92203956e-01  1.09798916e+00]\n",
      " [-9.76843715e-01  2.61927999e-01]\n",
      " [ 1.01037247e+00  2.07380098e-02]\n",
      " [ 1.17420826e+00  1.06449053e+00]\n",
      " [-1.10094164e+00 -1.00800029e+00]\n",
      " [ 1.31771581e+00  1.33221676e+00]\n",
      " [-1.13674849e+00 -1.51301177e+00]\n",
      " [-1.78885021e+00 -8.64889668e-01]\n",
      " [-1.37625488e+00 -1.38381983e+00]\n",
      " [-1.86845070e+00 -1.91864332e+00]\n",
      " [-1.12914676e+00 -5.61008022e-01]\n",
      " [-1.51479260e+00 -3.09083204e-01]\n",
      " [-1.22095223e+00 -1.35326386e+00]\n",
      " [-9.05327266e-01 -1.25241331e-01]\n",
      " [-7.61396033e-01 -1.95903393e+00]\n",
      " [-5.69214033e-01 -1.81566682e+00]\n",
      " [ 4.59400371e-01  1.86735334e+00]\n",
      " [-3.20764443e-01  1.21187900e+00]\n",
      " [-2.16630649e-01 -1.38708667e+00]\n",
      " [-1.93363920e+00 -5.54823506e-01]\n",
      " [ 1.19602197e+00  1.96648692e-03]\n",
      " [ 2.72576914e-01 -2.51649364e-01]\n",
      " [ 2.19034625e+00  9.75640311e-01]\n",
      " [-1.40362242e+00 -8.38857136e-01]\n",
      " [-6.42605690e-01 -1.22681095e+00]\n",
      " [-1.22230957e+00 -4.31446820e-01]\n",
      " [-3.71878306e-01 -1.08900294e-04]\n",
      " [-1.76476099e-01 -1.11783714e+00]\n",
      " [-7.51173896e-01 -8.49411357e-01]\n",
      " [-3.15682694e-01  4.58399287e-01]\n",
      " [-5.29104838e-03  1.42522515e+00]\n",
      " [ 8.53378428e-01 -9.68239970e-01]\n",
      " [ 1.88244640e+00  9.42356550e-01]\n",
      " [-1.72098714e-02  5.60156658e-01]\n",
      " [ 1.83924164e+00 -3.92211628e-01]\n",
      " [ 7.13485537e-01  9.72053154e-01]\n",
      " [-9.12717560e-01 -6.85227654e-01]\n",
      " [ 2.25394530e+00  3.20581739e-01]\n",
      " [ 1.59007699e-01 -9.49650713e-01]\n",
      " [ 2.64202751e+00  7.96567429e-01]\n",
      " [ 1.87273739e-01  9.96064843e-01]\n",
      " [-1.92605557e+00 -1.98204296e-01]\n",
      " [-8.48593530e-01 -7.02435136e-01]\n",
      " [ 8.58800347e-02 -4.11120927e-01]\n",
      " [-6.97940158e-02 -4.50541544e-01]\n",
      " [-5.94498694e-01 -9.86461796e-01]\n",
      " [ 1.16054286e+00  6.25899419e-01]\n",
      " [ 2.03229026e+00  2.13889417e+00]\n",
      " [-7.85759982e-01 -7.13808218e-01]\n",
      " [-6.65035823e-01 -8.18088487e-01]\n",
      " [-4.16131087e-01 -1.02763966e+00]\n",
      " [-9.48111485e-01 -7.55608329e-01]\n",
      " [ 6.84796703e-01  8.33919480e-01]\n",
      " [-9.97196029e-01 -5.78611583e-01]\n",
      " [-1.39771839e-01  1.25706321e+00]\n",
      " [ 2.59291287e-01  1.26186506e+00]\n",
      " [-9.93317141e-01 -1.24730346e+00]\n",
      " [ 7.76560111e-02  1.74746271e+00]\n",
      " [ 9.68008579e-01 -7.25708485e-02]\n",
      " [ 8.08955171e-01  1.32528417e+00]\n",
      " [ 1.48461779e+00  1.18055738e+00]\n",
      " [ 4.26276546e-01  8.19234007e-01]\n",
      " [ 6.74213972e-01  1.15964102e+00]\n",
      " [ 1.18315730e+00  6.22233679e-01]\n",
      " [ 8.86332557e-01  1.37162072e+00]\n",
      " [ 7.91804442e-01  1.84241677e+00]\n",
      " [ 5.80936790e-01  6.77886918e-01]\n",
      " [-1.69532238e+00 -1.47365385e+00]\n",
      " [ 1.23503082e+00  1.14267795e-02]\n",
      " [ 4.07120690e-01  1.52654287e-01]\n",
      " [ 8.92819958e-01 -8.09309371e-01]\n",
      " [ 1.66949493e-02  1.04919674e+00]\n",
      " [-1.59378657e+00 -1.18491189e+00]\n",
      " [-5.42126526e-01 -7.28114423e-01]\n",
      " [-5.05941863e-01  1.22156297e+00]\n",
      " [ 2.09956531e+00  1.27206662e+00]\n",
      " [-1.13789650e+00 -2.54123431e-01]\n",
      " [ 8.88885050e-01  1.71759280e+00]\n",
      " [ 1.72672072e+00  5.01258122e-01]\n",
      " [-6.43074104e-01 -1.16490761e+00]\n",
      " [ 7.73656109e-02 -5.19665640e-01]\n",
      " [ 6.57370678e-01  3.33855142e-01]\n",
      " [ 6.09971695e-01  8.81525885e-01]\n",
      " [ 3.48536638e-01  1.14387284e+00]\n",
      " [ 3.14881648e-01  6.40986212e-01]\n",
      " [ 1.29846168e+00  7.40448971e-01]\n",
      " [ 4.73330353e-01  8.17427552e-01]\n",
      " [ 7.78056933e-01  1.09903518e+00]\n",
      " [ 5.97077649e-01 -1.31348345e-02]\n",
      " [ 5.97182380e-01  1.88225456e+00]\n",
      " [ 5.75063000e-01 -8.49688462e-01]\n",
      " [-9.01164365e-01 -4.89583585e-01]\n",
      " [ 1.38439448e+00  2.42370335e-01]\n",
      " [-6.57583431e-01 -5.09158806e-01]\n",
      " [ 7.00210218e-02 -1.18455728e+00]\n",
      " [-4.50410125e-01 -7.84416982e-01]\n",
      " [-1.61326932e+00 -5.08731106e-01]\n",
      " [-1.28834921e+00 -2.48253465e-01]\n",
      " [ 1.61156999e-02  8.12284771e-01]\n",
      " [-1.34911336e-01 -5.99186498e-01]\n",
      " [ 1.26208930e+00  1.30079384e+00]\n",
      " [ 3.85766317e-01 -1.16192479e+00]\n",
      " [-2.01306588e+00 -1.37316753e+00]\n",
      " [ 6.08121765e-01  9.54764762e-01]\n",
      " [-1.07747019e+00 -1.84017680e-01]\n",
      " [ 1.09177464e+00  6.71321857e-01]\n",
      " [ 6.08574898e-01  1.17288005e+00]\n",
      " [ 4.31647107e-01  5.50880079e-01]\n",
      " [ 6.56372144e-01  6.45510621e-01]\n",
      " [-9.78828017e-01  8.25181839e-01]\n",
      " [-6.14302822e-01 -1.45832280e+00]\n",
      " [ 1.25886145e+00  9.09153447e-01]\n",
      " [ 8.93999640e-01  7.59805577e-01]\n",
      " [-4.46377749e-01  1.55308721e+00]\n",
      " [-4.32347323e-01 -1.38268913e+00]\n",
      " [ 1.01963343e+00  1.60067304e+00]\n",
      " [ 1.42702360e+00  6.73442558e-01]\n",
      " [-7.17312101e-01 -1.13528743e+00]\n",
      " [-9.60538407e-01 -7.82197750e-01]\n",
      " [-7.20286068e-01 -9.01287057e-01]\n",
      " [-6.80543840e-01 -5.62669219e-01]\n",
      " [-1.11133053e+00 -1.73134825e-01]\n",
      " [-1.11054512e+00 -1.08368811e-02]\n",
      " [ 6.78873786e-01  6.74876671e-01]\n",
      " [ 7.61312183e-01  7.65878348e-01]\n",
      " [ 1.32474394e+00  3.08994408e-01]\n",
      " [ 2.07856885e+00  1.32160758e+00]\n",
      " [-5.23867119e-01 -1.91791418e+00]\n",
      " [ 2.46961550e-01  1.22869602e+00]\n",
      " [ 7.99995448e-01  2.89959670e-01]\n",
      " [-3.59470384e-01 -1.00960737e+00]\n",
      " [ 1.92810948e+00  1.96471189e-01]\n",
      " [-2.56396752e+00 -1.33648293e+00]\n",
      " [ 3.63058344e-01  1.82865490e+00]\n",
      " [ 8.49964343e-01  1.20680314e+00]\n",
      " [ 1.00171951e-02  9.13882331e-01]\n",
      " [-1.60494196e+00  2.70903221e-01]\n",
      " [ 1.65248290e+00  1.10381825e+00]\n",
      " [-7.29686159e-01 -1.25200833e+00]\n",
      " [ 9.73290516e-01  1.43885225e+00]\n",
      " [-7.41311196e-01 -6.72295125e-01]\n",
      " [-6.72737546e-01  3.72650184e-02]\n",
      " [ 1.87836359e-01 -1.24586400e+00]\n",
      " [ 2.69595892e-01 -1.33593242e+00]\n",
      " [-6.97038721e-01 -1.40784767e-01]\n",
      " [-2.83372107e-01 -3.05499556e-01]\n",
      " [-1.43452846e-01 -5.65859229e-01]\n",
      " [-4.35449997e-01 -6.72946020e-01]\n",
      " [ 1.73599674e+00  8.97127632e-03]\n",
      " [ 2.72498654e-01  7.26428561e-01]\n",
      " [-1.58868644e+00 -1.13162172e+00]\n",
      " [-1.19209447e-01 -5.13679676e-03]\n",
      " [ 1.70490360e+00  1.02746314e+00]\n",
      " [ 2.30602668e+00  3.55369138e-01]\n",
      " [-3.34803377e-01  5.43728346e-01]\n",
      " [-9.17014564e-01 -1.09236743e+00]\n",
      " [ 9.42369796e-01  1.96316092e+00]\n",
      " [ 1.66625527e-01  9.76220935e-01]\n",
      " [-1.60554563e+00 -8.00546723e-01]\n",
      " [-1.08013278e+00 -2.67295188e+00]\n",
      " [-6.42151543e-01 -6.02169589e-01]\n",
      " [ 7.02885075e-01  3.19332627e-01]\n",
      " [ 1.43071873e-01 -8.88107664e-01]\n",
      " [ 1.34403341e+00  2.08664744e+00]\n",
      " [ 1.29770345e+00  1.47347482e+00]\n",
      " [-1.29034894e+00 -1.88656557e-01]\n",
      " [ 4.99734241e-01  4.15816034e-01]\n",
      " [ 5.41365214e-01 -1.65619125e+00]\n",
      " [-1.01446292e-02  9.02770137e-01]\n",
      " [-4.12738820e-01 -2.76329431e-01]\n",
      " [-3.60242279e-02 -9.60409306e-01]\n",
      " [ 5.32816516e-01  5.58998062e-01]\n",
      " [-1.04936315e+00 -2.32945281e-01]]\n"
     ]
    }
   ],
   "source": [
    "print(X)"
   ]
  },
  {
   "cell_type": "code",
   "execution_count": 23,
   "metadata": {},
   "outputs": [
    {
     "name": "stdout",
     "output_type": "stream",
     "text": [
      "(400, 2) (400,)\n",
      "(100, 2) (100,)\n"
     ]
    }
   ],
   "source": [
    "X_train, X_test, y_train, y_test = train_test_split(X, y, test_size = 0.2, random_state = 3)\n",
    "\n",
    "print(X_train.shape, y_train.shape)\n",
    "print(X_test.shape, y_test.shape)"
   ]
  },
  {
   "cell_type": "code",
   "execution_count": 24,
   "metadata": {},
   "outputs": [
    {
     "data": {
      "text/plain": [
       "SVC()"
      ]
     },
     "execution_count": 24,
     "metadata": {},
     "output_type": "execute_result"
    }
   ],
   "source": [
    "model = SVC()\n",
    "model.fit(X_train, y_train)"
   ]
  },
  {
   "cell_type": "markdown",
   "metadata": {},
   "source": [
    "# EVALUATING THE MODEL"
   ]
  },
  {
   "cell_type": "code",
   "execution_count": 25,
   "metadata": {},
   "outputs": [
    {
     "name": "stdout",
     "output_type": "stream",
     "text": [
      "(100,)\n",
      "[1 0 1 0 1 0 0 1 1 1 0 1 0 1 0 1 0 1 1 1 1 0 1 0 0 1 0 1 1 0 1 0 0 0 0 0 1\n",
      " 1 0 1 1 1 1 0 1 0 0 0 1 1 0 0 0 0 1 0 1 0 0 1 0 1 1 1 0 1 1 0 0 0 0 1 0 0\n",
      " 0 0 1 0 0 1 1 1 1 0 1 1 0 1 0 1 0 0 1 1 0 1 1 0 0 1]\n"
     ]
    }
   ],
   "source": [
    "y_predict = model.predict(X_test)\n",
    "\n",
    "print(y_predict.shape)\n",
    "print(y_predict)"
   ]
  },
  {
   "cell_type": "code",
   "execution_count": 26,
   "metadata": {},
   "outputs": [
    {
     "name": "stdout",
     "output_type": "stream",
     "text": [
      "[[46  1]\n",
      " [ 4 49]]\n",
      "        Pred:0  Pred:1\n",
      "True:0      46       1\n",
      "True:1       4      49\n"
     ]
    },
    {
     "data": {
      "text/plain": [
       "<matplotlib.axes._subplots.AxesSubplot at 0x7ff56ef83350>"
      ]
     },
     "execution_count": 26,
     "metadata": {},
     "output_type": "execute_result"
    },
    {
     "data": {
      "image/png": "[encoded data removed]",
      "text/plain": [
       "<Figure size 432x288 with 2 Axes>"
      ]
     },
     "metadata": {
      "needs_background": "light"
     },
     "output_type": "display_data"
    }
   ],
   "source": [
    "cm = confusion_matrix(y_test, y_predict)\n",
    "print(cm)\n",
    "conf_matrix = pd.DataFrame(data = cm, columns = ['Pred:0','Pred:1'], index = ['True:0','True:1'])\n",
    "print(conf_matrix)\n",
    "sns.heatmap(conf_matrix, annot = True)"
   ]
  },
  {
   "cell_type": "code",
   "execution_count": 27,
   "metadata": {},
   "outputs": [
    {
     "name": "stdout",
     "output_type": "stream",
     "text": [
      "              precision    recall  f1-score   support\n",
      "\n",
      "           0       0.92      0.98      0.95        47\n",
      "           1       0.98      0.92      0.95        53\n",
      "\n",
      "    accuracy                           0.95       100\n",
      "   macro avg       0.95      0.95      0.95       100\n",
      "weighted avg       0.95      0.95      0.95       100\n",
      "\n"
     ]
    }
   ],
   "source": [
    "print(classification_report(y_test, y_predict))"
   ]
  },
  {
   "cell_type": "markdown",
   "metadata": {},
   "source": [
    "# EVALUATING THE MODEL by Grid"
   ]
  },
  {
   "cell_type": "code",
   "execution_count": 28,
   "metadata": {},
   "outputs": [],
   "source": [
    "param_grid = {'C': [0.1, 1, 10, 100], 'gamma': [1, 0.1, 0.01, 0.001], 'kernel': ['rbf']}"
   ]
  },
  {
   "cell_type": "code",
   "execution_count": 29,
   "metadata": {},
   "outputs": [],
   "source": [
    "from sklearn.model_selection import GridSearchCV"
   ]
  },
  {
   "cell_type": "code",
   "execution_count": 32,
   "metadata": {},
   "outputs": [],
   "source": [
    "grid = GridSearchCV(SVC(), param_grid, verbose = 4)"
   ]
  },
  {
   "cell_type": "code",
   "execution_count": 33,
   "metadata": {},
   "outputs": [
    {
     "name": "stdout",
     "output_type": "stream",
     "text": [
      "Fitting 5 folds for each of 16 candidates, totalling 80 fits\n",
      "[CV] C=0.1, gamma=1, kernel=rbf ......................................\n",
      "[CV] .......... C=0.1, gamma=1, kernel=rbf, score=0.963, total=   0.0s\n",
      "[CV] C=0.1, gamma=1, kernel=rbf ......................................\n",
      "[CV] .......... C=0.1, gamma=1, kernel=rbf, score=0.912, total=   0.0s\n",
      "[CV] C=0.1, gamma=1, kernel=rbf ......................................\n",
      "[CV] .......... C=0.1, gamma=1, kernel=rbf, score=0.975, total=   0.0s\n",
      "[CV] C=0.1, gamma=1, kernel=rbf ......................................\n",
      "[CV] .......... C=0.1, gamma=1, kernel=rbf, score=0.950, total=   0.0s\n",
      "[CV] C=0.1, gamma=1, kernel=rbf ......................................\n",
      "[CV] .......... C=0.1, gamma=1, kernel=rbf, score=0.925, total=   0.0s\n",
      "[CV] C=0.1, gamma=0.1, kernel=rbf ....................................\n",
      "[CV] ........ C=0.1, gamma=0.1, kernel=rbf, score=0.963, total=   0.0s\n",
      "[CV] C=0.1, gamma=0.1, kernel=rbf ....................................\n",
      "[CV] ........ C=0.1, gamma=0.1, kernel=rbf, score=0.912, total=   0.0s\n",
      "[CV] C=0.1, gamma=0.1, kernel=rbf ....................................\n",
      "[CV] ........ C=0.1, gamma=0.1, kernel=rbf, score=0.975, total=   0.0s\n",
      "[CV] C=0.1, gamma=0.1, kernel=rbf ....................................\n",
      "[CV] ........ C=0.1, gamma=0.1, kernel=rbf, score=0.950, total=   0.0s\n",
      "[CV] C=0.1, gamma=0.1, kernel=rbf ....................................\n",
      "[CV] ........ C=0.1, gamma=0.1, kernel=rbf, score=0.925, total=   0.0s\n",
      "[CV] C=0.1, gamma=0.01, kernel=rbf ...................................\n",
      "[CV] ....... C=0.1, gamma=0.01, kernel=rbf, score=0.963, total=   0.0s\n",
      "[CV] C=0.1, gamma=0.01, kernel=rbf ...................................\n",
      "[CV] ....... C=0.1, gamma=0.01, kernel=rbf, score=0.912, total=   0.0s\n",
      "[CV] C=0.1, gamma=0.01, kernel=rbf ...................................\n",
      "[CV] ....... C=0.1, gamma=0.01, kernel=rbf, score=0.975, total=   0.0s\n",
      "[CV] C=0.1, gamma=0.01, kernel=rbf ...................................\n",
      "[CV] ....... C=0.1, gamma=0.01, kernel=rbf, score=0.950, total=   0.0s\n",
      "[CV] C=0.1, gamma=0.01, kernel=rbf ...................................\n",
      "[CV] ....... C=0.1, gamma=0.01, kernel=rbf, score=0.925, total=   0.0s\n",
      "[CV] C=0.1, gamma=0.001, kernel=rbf ..................................\n",
      "[CV] ...... C=0.1, gamma=0.001, kernel=rbf, score=0.500, total=   0.0s\n",
      "[CV] C=0.1, gamma=0.001, kernel=rbf ..................................\n",
      "[CV] ...... C=0.1, gamma=0.001, kernel=rbf, score=0.500, total=   0.0s\n",
      "[CV] C=0.1, gamma=0.001, kernel=rbf ..................................\n",
      "[CV] ...... C=0.1, gamma=0.001, kernel=rbf, score=0.512, total=   0.0s\n",
      "[CV] C=0.1, gamma=0.001, kernel=rbf ..................................\n",
      "[CV] ...... C=0.1, gamma=0.001, kernel=rbf, score=0.512, total=   0.0s\n",
      "[CV] C=0.1, gamma=0.001, kernel=rbf ..................................\n",
      "[CV] ...... C=0.1, gamma=0.001, kernel=rbf, score=0.512, total=   0.0s\n",
      "[CV] C=1, gamma=1, kernel=rbf ........................................\n",
      "[CV] ............ C=1, gamma=1, kernel=rbf, score=0.963, total=   0.0s\n",
      "[CV] C=1, gamma=1, kernel=rbf ........................................\n",
      "[CV] ............ C=1, gamma=1, kernel=rbf, score=0.912, total=   0.0s\n",
      "[CV] C=1, gamma=1, kernel=rbf ........................................\n",
      "[CV] ............ C=1, gamma=1, kernel=rbf, score=0.975, total=   0.0s\n",
      "[CV] C=1, gamma=1, kernel=rbf ........................................\n",
      "[CV] ............ C=1, gamma=1, kernel=rbf, score=0.950, total=   0.0s\n",
      "[CV] C=1, gamma=1, kernel=rbf ........................................\n",
      "[CV] ............ C=1, gamma=1, kernel=rbf, score=0.925, total=   0.0s\n",
      "[CV] C=1, gamma=0.1, kernel=rbf ......................................\n",
      "[CV] .......... C=1, gamma=0.1, kernel=rbf, score=0.963, total=   0.0s\n",
      "[CV] C=1, gamma=0.1, kernel=rbf ......................................\n",
      "[CV] .......... C=1, gamma=0.1, kernel=rbf, score=0.900, total=   0.0s\n",
      "[CV] C=1, gamma=0.1, kernel=rbf ......................................\n",
      "[CV] .......... C=1, gamma=0.1, kernel=rbf, score=0.975, total=   0.0s\n",
      "[CV] C=1, gamma=0.1, kernel=rbf ......................................\n",
      "[CV] .......... C=1, gamma=0.1, kernel=rbf, score=0.963, total=   0.0s\n",
      "[CV] C=1, gamma=0.1, kernel=rbf ......................................\n",
      "[CV] .......... C=1, gamma=0.1, kernel=rbf, score=0.925, total=   0.0s\n",
      "[CV] C=1, gamma=0.01, kernel=rbf .....................................\n",
      "[CV] ......... C=1, gamma=0.01, kernel=rbf, score=0.963, total=   0.0s\n",
      "[CV] C=1, gamma=0.01, kernel=rbf .....................................\n",
      "[CV] ......... C=1, gamma=0.01, kernel=rbf, score=0.912, total=   0.0s\n",
      "[CV] C=1, gamma=0.01, kernel=rbf .....................................\n",
      "[CV] ......... C=1, gamma=0.01, kernel=rbf, score=0.975, total=   0.0s\n",
      "[CV] C=1, gamma=0.01, kernel=rbf .....................................\n",
      "[CV] ......... C=1, gamma=0.01, kernel=rbf, score=0.950, total=   0.0s\n",
      "[CV] C=1, gamma=0.01, kernel=rbf .....................................\n",
      "[CV] ......... C=1, gamma=0.01, kernel=rbf, score=0.925, total=   0.0s\n",
      "[CV] C=1, gamma=0.001, kernel=rbf ....................................\n",
      "[CV] ........ C=1, gamma=0.001, kernel=rbf, score=0.963, total=   0.0s\n",
      "[CV] C=1, gamma=0.001, kernel=rbf ....................................\n",
      "[CV] ........ C=1, gamma=0.001, kernel=rbf, score=0.900, total=   0.0s\n",
      "[CV] C=1, gamma=0.001, kernel=rbf ....................................\n",
      "[CV] ........ C=1, gamma=0.001, kernel=rbf, score=0.975, total=   0.0s\n",
      "[CV] C=1, gamma=0.001, kernel=rbf ....................................\n",
      "[CV] ........ C=1, gamma=0.001, kernel=rbf, score=0.950, total=   0.0s\n",
      "[CV] C=1, gamma=0.001, kernel=rbf ....................................\n",
      "[CV] ........ C=1, gamma=0.001, kernel=rbf, score=0.925, total=   0.0s\n",
      "[CV] C=10, gamma=1, kernel=rbf .......................................\n",
      "[CV] ........... C=10, gamma=1, kernel=rbf, score=0.975, total=   0.0s\n",
      "[CV] C=10, gamma=1, kernel=rbf .......................................\n",
      "[CV] ........... C=10, gamma=1, kernel=rbf, score=0.912, total=   0.0s\n",
      "[CV] C=10, gamma=1, kernel=rbf .......................................\n",
      "[CV] ........... C=10, gamma=1, kernel=rbf, score=0.988, total=   0.0s\n",
      "[CV] C=10, gamma=1, kernel=rbf .......................................\n",
      "[CV] ........... C=10, gamma=1, kernel=rbf, score=0.938, total=   0.0s\n",
      "[CV] C=10, gamma=1, kernel=rbf .......................................\n",
      "[CV] ........... C=10, gamma=1, kernel=rbf, score=0.925, total=   0.0s\n",
      "[CV] C=10, gamma=0.1, kernel=rbf .....................................\n",
      "[CV] ......... C=10, gamma=0.1, kernel=rbf, score=0.963, total=   0.0s\n",
      "[CV] C=10, gamma=0.1, kernel=rbf .....................................\n",
      "[CV] ......... C=10, gamma=0.1, kernel=rbf, score=0.900, total=   0.0s\n",
      "[CV] C=10, gamma=0.1, kernel=rbf .....................................\n",
      "[CV] ......... C=10, gamma=0.1, kernel=rbf, score=0.975, total=   0.0s\n",
      "[CV] C=10, gamma=0.1, kernel=rbf .....................................\n",
      "[CV] ......... C=10, gamma=0.1, kernel=rbf, score=0.950, total=   0.0s\n",
      "[CV] C=10, gamma=0.1, kernel=rbf .....................................\n",
      "[CV] ......... C=10, gamma=0.1, kernel=rbf, score=0.925, total=   0.0s\n",
      "[CV] C=10, gamma=0.01, kernel=rbf ....................................\n",
      "[CV] ........ C=10, gamma=0.01, kernel=rbf, score=0.975, total=   0.0s\n",
      "[CV] C=10, gamma=0.01, kernel=rbf ....................................\n",
      "[CV] ........ C=10, gamma=0.01, kernel=rbf, score=0.900, total=   0.0s\n",
      "[CV] C=10, gamma=0.01, kernel=rbf ....................................\n",
      "[CV] ........ C=10, gamma=0.01, kernel=rbf, score=0.975, total=   0.0s\n",
      "[CV] C=10, gamma=0.01, kernel=rbf ....................................\n"
     ]
    },
    {
     "name": "stderr",
     "output_type": "stream",
     "text": [
      "[Parallel(n_jobs=1)]: Using backend SequentialBackend with 1 concurrent workers.\n",
      "[Parallel(n_jobs=1)]: Done   1 out of   1 | elapsed:    0.0s remaining:    0.0s\n",
      "[Parallel(n_jobs=1)]: Done   2 out of   2 | elapsed:    0.0s remaining:    0.0s\n",
      "[Parallel(n_jobs=1)]: Done   3 out of   3 | elapsed:    0.0s remaining:    0.0s\n"
     ]
    },
    {
     "name": "stdout",
     "output_type": "stream",
     "text": [
      "[CV] ........ C=10, gamma=0.01, kernel=rbf, score=0.963, total=   0.0s\n",
      "[CV] C=10, gamma=0.01, kernel=rbf ....................................\n",
      "[CV] ........ C=10, gamma=0.01, kernel=rbf, score=0.925, total=   0.0s\n",
      "[CV] C=10, gamma=0.001, kernel=rbf ...................................\n",
      "[CV] ....... C=10, gamma=0.001, kernel=rbf, score=0.963, total=   0.0s\n",
      "[CV] C=10, gamma=0.001, kernel=rbf ...................................\n",
      "[CV] ....... C=10, gamma=0.001, kernel=rbf, score=0.912, total=   0.0s\n",
      "[CV] C=10, gamma=0.001, kernel=rbf ...................................\n",
      "[CV] ....... C=10, gamma=0.001, kernel=rbf, score=0.975, total=   0.0s\n",
      "[CV] C=10, gamma=0.001, kernel=rbf ...................................\n",
      "[CV] ....... C=10, gamma=0.001, kernel=rbf, score=0.950, total=   0.0s\n",
      "[CV] C=10, gamma=0.001, kernel=rbf ...................................\n",
      "[CV] ....... C=10, gamma=0.001, kernel=rbf, score=0.925, total=   0.0s\n",
      "[CV] C=100, gamma=1, kernel=rbf ......................................\n",
      "[CV] .......... C=100, gamma=1, kernel=rbf, score=0.950, total=   0.0s\n",
      "[CV] C=100, gamma=1, kernel=rbf ......................................\n",
      "[CV] .......... C=100, gamma=1, kernel=rbf, score=0.925, total=   0.0s\n",
      "[CV] C=100, gamma=1, kernel=rbf ......................................\n",
      "[CV] .......... C=100, gamma=1, kernel=rbf, score=0.988, total=   0.0s\n",
      "[CV] C=100, gamma=1, kernel=rbf ......................................\n",
      "[CV] .......... C=100, gamma=1, kernel=rbf, score=0.938, total=   0.0s\n",
      "[CV] C=100, gamma=1, kernel=rbf ......................................\n",
      "[CV] .......... C=100, gamma=1, kernel=rbf, score=0.912, total=   0.0s\n",
      "[CV] C=100, gamma=0.1, kernel=rbf ....................................\n",
      "[CV] ........ C=100, gamma=0.1, kernel=rbf, score=0.963, total=   0.0s\n",
      "[CV] C=100, gamma=0.1, kernel=rbf ....................................\n",
      "[CV] ........ C=100, gamma=0.1, kernel=rbf, score=0.912, total=   0.0s\n",
      "[CV] C=100, gamma=0.1, kernel=rbf ....................................\n",
      "[CV] ........ C=100, gamma=0.1, kernel=rbf, score=0.975, total=   0.0s\n",
      "[CV] C=100, gamma=0.1, kernel=rbf ....................................\n",
      "[CV] ........ C=100, gamma=0.1, kernel=rbf, score=0.950, total=   0.0s\n",
      "[CV] C=100, gamma=0.1, kernel=rbf ....................................\n",
      "[CV] ........ C=100, gamma=0.1, kernel=rbf, score=0.925, total=   0.0s\n",
      "[CV] C=100, gamma=0.01, kernel=rbf ...................................\n",
      "[CV] ....... C=100, gamma=0.01, kernel=rbf, score=0.963, total=   0.0s\n",
      "[CV] C=100, gamma=0.01, kernel=rbf ...................................\n",
      "[CV] ....... C=100, gamma=0.01, kernel=rbf, score=0.900, total=   0.0s\n",
      "[CV] C=100, gamma=0.01, kernel=rbf ...................................\n",
      "[CV] ....... C=100, gamma=0.01, kernel=rbf, score=0.975, total=   0.0s\n",
      "[CV] C=100, gamma=0.01, kernel=rbf ...................................\n",
      "[CV] ....... C=100, gamma=0.01, kernel=rbf, score=0.963, total=   0.0s\n",
      "[CV] C=100, gamma=0.01, kernel=rbf ...................................\n",
      "[CV] ....... C=100, gamma=0.01, kernel=rbf, score=0.925, total=   0.0s\n",
      "[CV] C=100, gamma=0.001, kernel=rbf ..................................\n",
      "[CV] ...... C=100, gamma=0.001, kernel=rbf, score=0.975, total=   0.0s\n",
      "[CV] C=100, gamma=0.001, kernel=rbf ..................................\n",
      "[CV] ...... C=100, gamma=0.001, kernel=rbf, score=0.900, total=   0.0s\n",
      "[CV] C=100, gamma=0.001, kernel=rbf ..................................\n",
      "[CV] ...... C=100, gamma=0.001, kernel=rbf, score=0.975, total=   0.0s\n",
      "[CV] C=100, gamma=0.001, kernel=rbf ..................................\n",
      "[CV] ...... C=100, gamma=0.001, kernel=rbf, score=0.963, total=   0.0s\n",
      "[CV] C=100, gamma=0.001, kernel=rbf ..................................\n",
      "[CV] ...... C=100, gamma=0.001, kernel=rbf, score=0.925, total=   0.0s\n"
     ]
    },
    {
     "name": "stderr",
     "output_type": "stream",
     "text": [
      "[Parallel(n_jobs=1)]: Done  80 out of  80 | elapsed:    0.3s finished\n"
     ]
    },
    {
     "data": {
      "text/plain": [
       "GridSearchCV(estimator=SVC(),\n",
       "             param_grid={'C': [0.1, 1, 10, 100], 'gamma': [1, 0.1, 0.01, 0.001],\n",
       "                         'kernel': ['rbf']},\n",
       "             verbose=4)"
      ]
     },
     "execution_count": 33,
     "metadata": {},
     "output_type": "execute_result"
    }
   ],
   "source": [
    "grid.fit(X_train, y_train)"
   ]
  },
  {
   "cell_type": "code",
   "execution_count": 34,
   "metadata": {},
   "outputs": [
    {
     "name": "stdout",
     "output_type": "stream",
     "text": [
      "(100,)\n",
      "[1 0 1 0 1 0 0 1 1 1 0 1 0 1 0 1 0 1 1 1 1 0 1 0 0 1 0 1 1 0 1 0 0 0 0 0 1\n",
      " 1 0 1 1 1 1 0 1 0 0 0 1 1 0 0 0 0 1 0 1 0 0 1 0 1 1 1 0 1 1 0 0 0 0 1 0 0\n",
      " 0 0 1 0 0 1 1 1 1 0 1 1 0 1 0 1 0 0 1 1 0 1 1 0 0 1]\n"
     ]
    }
   ],
   "source": [
    "y_predict = grid.predict(X_test)\n",
    "\n",
    "print(y_predict.shape)\n",
    "print(y_predict)"
   ]
  },
  {
   "cell_type": "code",
   "execution_count": 35,
   "metadata": {},
   "outputs": [
    {
     "name": "stdout",
     "output_type": "stream",
     "text": [
      "[[46  1]\n",
      " [ 4 49]]\n",
      "        Pred:0  Pred:1\n",
      "True:0      46       1\n",
      "True:1       4      49\n"
     ]
    },
    {
     "data": {
      "text/plain": [
       "<matplotlib.axes._subplots.AxesSubplot at 0x7ff56edba050>"
      ]
     },
     "execution_count": 35,
     "metadata": {},
     "output_type": "execute_result"
    },
    {
     "data": {
      "image/png": "[encoded data removed]",
      "text/plain": [
       "<Figure size 432x288 with 2 Axes>"
      ]
     },
     "metadata": {
      "needs_background": "light"
     },
     "output_type": "display_data"
    }
   ],
   "source": [
    "cm = confusion_matrix(y_test, y_predict)\n",
    "print(cm)\n",
    "conf_matrix = pd.DataFrame(data = cm, columns = ['Pred:0','Pred:1'], index = ['True:0','True:1'])\n",
    "print(conf_matrix)\n",
    "sns.heatmap(conf_matrix, annot = True)"
   ]
  },
  {
   "cell_type": "code",
   "execution_count": 36,
   "metadata": {},
   "outputs": [
    {
     "name": "stdout",
     "output_type": "stream",
     "text": [
      "              precision    recall  f1-score   support\n",
      "\n",
      "           0       0.92      0.98      0.95        47\n",
      "           1       0.98      0.92      0.95        53\n",
      "\n",
      "    accuracy                           0.95       100\n",
      "   macro avg       0.95      0.95      0.95       100\n",
      "weighted avg       0.95      0.95      0.95       100\n",
      "\n"
     ]
    }
   ],
   "source": [
    "print(classification_report(y_test, y_predict)) # Same like without Grid"
   ]
  },
  {
   "cell_type": "code",
   "execution_count": null,
   "metadata": {},
   "outputs": [],
   "source": []
  }
 ],
 "metadata": {
  "kernelspec": {
   "display_name": "Python 3",
   "language": "python",
   "name": "python3"
  },
  "language_info": {
   "codemirror_mode": {
    "name": "ipython",
    "version": 3
   },
   "file_extension": ".py",
   "mimetype": "text/x-python",
   "name": "python",
   "nbconvert_exporter": "python",
   "pygments_lexer": "ipython3",
   "version": "3.7.6"
  }
 },
 "nbformat": 4,
 "nbformat_minor": 4
}
